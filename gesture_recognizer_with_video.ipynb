{
  "cells": [
    {
      "cell_type": "markdown",
      "metadata": {
        "id": "h2q27gKz1H20"
      },
      "source": [
        "##### Copyright 2022 The MediaPipe Authors. All Rights Reserved."
      ]
    },
    {
      "cell_type": "code",
      "execution_count": null,
      "metadata": {
        "cellView": "form",
        "id": "TUfAcER1oUS6"
      },
      "outputs": [],
      "source": [
        "#@title Licensed under the Apache License, Version 2.0 (the \"License\");\n",
        "# you may not use this file except in compliance with the License.\n",
        "# You may obtain a copy of the License at\n",
        "#\n",
        "# https://www.apache.org/licenses/LICENSE-2.0\n",
        "#\n",
        "# Unless required by applicable law or agreed to in writing, software\n",
        "# distributed under the License is distributed on an \"AS IS\" BASIS,\n",
        "# WITHOUT WARRANTIES OR CONDITIONS OF ANY KIND, either express or implied.\n",
        "# See the License for the specific language governing permissions and\n",
        "# limitations under the License."
      ]
    },
    {
      "cell_type": "markdown",
      "metadata": {
        "id": "L_cQX8dWu4Dv"
      },
      "source": [
        "# Gesture Recognizer with MediaPipe Tasks\n",
        "\n",
        "This notebook shows you how to use MediaPipe Tasks Python API to recognize hand gestures in images."
      ]
    },
    {
      "cell_type": "markdown",
      "metadata": {
        "id": "O6PN9FvIx614"
      },
      "source": [
        "## Preparation\n",
        "\n",
        "Let's start with installing MediaPipe.\n",
        "\n",
        "*Notes:*\n",
        "* *If you see an error about `flatbuffers` incompatibility, it's fine to ignore it. MediaPipe requires a newer version of flatbuffers (v2), which is incompatible with the older version of Tensorflow (v2.9) currently preinstalled on Colab.*\n",
        "* *If you install MediaPipe outside of Colab, you only need to run `pip install mediapipe`. It isn't necessary to explicitly install `flatbuffers`.*"
      ]
    },
    {
      "cell_type": "code",
      "execution_count": 1,
      "metadata": {
        "colab": {
          "base_uri": "https://localhost:8080/"
        },
        "id": "gxbHBsF-8Y_l",
        "outputId": "7037c2ce-601d-49ce-b693-779bdec48221"
      },
      "outputs": [],
      "source": [
        "!pip install -q flatbuffers==2.0.0\n",
        "!pip install -q mediapipe==0.9.0.1"
      ]
    },
    {
      "cell_type": "markdown",
      "metadata": {
        "id": "a49D7h4TVmru"
      },
      "source": [
        "Then download an off-the-shelf model. This model can recognize 7 hand gestures: 👍, 👎, ✌️, ☝️, ✊, 👋, 🤟\n",
        "\n",
        "Check out the [MediaPipe documentation](https://developers.google.com/mediapipe/solutions/vision/gesture_recognizer#models) for more details about the model."
      ]
    },
    {
      "cell_type": "code",
      "execution_count": 2,
      "metadata": {
        "id": "OMjuVQiDYJKF"
      },
      "outputs": [],
      "source": [
        "!wget -q https://storage.googleapis.com/mediapipe-tasks/gesture_recognizer/gesture_recognizer.task"
      ]
    },
    {
      "cell_type": "markdown",
      "metadata": {
        "id": "8W_6sv5-JUdY"
      },
      "source": [
        "## Visualization Utilities"
      ]
    },
    {
      "cell_type": "code",
      "execution_count": 3,
      "metadata": {
        "id": "H4aPO-hvbw3r"
      },
      "outputs": [],
      "source": [
        "#@markdown We implemented some functions to visualize the gesture recognition results. <br/> Run the following cell to activate the functions.\n",
        "from matplotlib import pyplot as plt\n",
        "import mediapipe as mp\n",
        "from mediapipe.framework.formats import landmark_pb2\n",
        "\n",
        "plt.rcParams.update({\n",
        "    'axes.spines.top': False,\n",
        "    'axes.spines.right': False,\n",
        "    'axes.spines.left': False,\n",
        "    'axes.spines.bottom': False,\n",
        "    'xtick.labelbottom': False,\n",
        "    'xtick.bottom': False,\n",
        "    'ytick.labelleft': False,\n",
        "    'ytick.left': False,\n",
        "    'xtick.labeltop': False,\n",
        "    'xtick.top': False,\n",
        "    'ytick.labelright': False,\n",
        "    'ytick.right': False\n",
        "})\n",
        "\n",
        "mp_hands = mp.solutions.hands\n",
        "mp_drawing = mp.solutions.drawing_utils\n",
        "mp_drawing_styles = mp.solutions.drawing_styles\n",
        "\n",
        "\n",
        "def display_one_image(image, title, subplot, titlesize=16):\n",
        "    \"\"\"Displays one image along with the predicted category name and score.\"\"\"\n",
        "    plt.subplot(*subplot)\n",
        "    plt.imshow(image)\n",
        "    if len(title) > 0:\n",
        "        plt.title(title, fontsize=int(titlesize), color='black', fontdict={'verticalalignment':'center'}, pad=int(titlesize/1.5))\n",
        "    return (subplot[0], subplot[1], subplot[2]+1)\n",
        "\n",
        "\n",
        "def display_batch_of_images_with_gestures_and_hand_landmarks(images, results):\n",
        "    \"\"\"Displays a batch of images with the gesture category and its score along with the hand landmarks.\"\"\"\n",
        "    # Images and labels.\n",
        "    images = [image.numpy_view() for image in images]\n",
        "    gestures = [top_gesture for (top_gesture, _) in results]\n",
        "    multi_hand_landmarks_list = [multi_hand_landmarks for (_, multi_hand_landmarks) in results]\n",
        "\n",
        "    # Auto-squaring: this will drop data that does not fit into square or square-ish rectangle.\n",
        "    rows = int(math.sqrt(len(images)))\n",
        "    cols = len(images) // rows\n",
        "\n",
        "    # Size and spacing.\n",
        "    FIGSIZE = 13.0\n",
        "    SPACING = 0.1\n",
        "    subplot=(rows,cols, 1)\n",
        "    if rows < cols:\n",
        "        plt.figure(figsize=(FIGSIZE,FIGSIZE/cols*rows))\n",
        "    else:\n",
        "        plt.figure(figsize=(FIGSIZE/rows*cols,FIGSIZE))\n",
        "\n",
        "    # Display gestures and hand landmarks.\n",
        "    for i, (image, gestures) in enumerate(zip(images[:rows*cols], gestures[:rows*cols])):\n",
        "        title = f\"{gestures.category_name} ({gestures.score:.2f})\"\n",
        "        dynamic_titlesize = FIGSIZE*SPACING/max(rows,cols) * 40 + 3\n",
        "        annotated_image = image.copy()\n",
        "\n",
        "        for hand_landmarks in multi_hand_landmarks_list[i]:\n",
        "          hand_landmarks_proto = landmark_pb2.NormalizedLandmarkList()\n",
        "          hand_landmarks_proto.landmark.extend([\n",
        "            landmark_pb2.NormalizedLandmark(x=landmark.x, y=landmark.y, z=landmark.z) for landmark in hand_landmarks\n",
        "          ])\n",
        "\n",
        "          mp_drawing.draw_landmarks(\n",
        "            annotated_image,\n",
        "            hand_landmarks_proto,\n",
        "            mp_hands.HAND_CONNECTIONS,\n",
        "            mp_drawing_styles.get_default_hand_landmarks_style(),\n",
        "            mp_drawing_styles.get_default_hand_connections_style())\n",
        "\n",
        "        subplot = display_one_image(annotated_image, title, subplot, titlesize=dynamic_titlesize)\n",
        "\n",
        "    # Layout.\n",
        "    plt.tight_layout()\n",
        "    plt.subplots_adjust(wspace=SPACING, hspace=SPACING)\n",
        "    plt.show()"
      ]
    },
    {
      "cell_type": "markdown",
      "metadata": {
        "id": "83PEJNp9yPBU"
      },
      "source": [
        "## Download test images\n",
        "\n",
        "Let's grab some test images that we'll use later. The images ([1](https://pixabay.com/photos/idea-pointing-raise-hand-raise-3082824/), [2](https://pixabay.com/photos/thumbs-up-happy-positive-woman-2649310/), [3](https://pixabay.com/photos/epidemic-disease-coronavirus-5082474/), [4](https://pixabay.com/photos/thumbs-down-disapprove-gesture-6744094/)) are from Pixabay."
      ]
    },
    {
      "cell_type": "code",
      "execution_count": 4,
      "metadata": {
        "id": "tzXuqyIBlXer"
      },
      "outputs": [],
      "source": [
        "import urllib\n",
        "\n",
        "IMAGE_FILENAMES = ['thumbs_down.jpg', 'victory.jpg', 'thumbs_up.jpg', 'pointing_up.jpg']\n",
        "\n",
        "for name in IMAGE_FILENAMES:\n",
        "  url = f'https://storage.googleapis.com/mediapipe-tasks/gesture_recognizer/{name}'\n",
        "  urllib.request.urlretrieve(url, name)"
      ]
    },
    {
      "cell_type": "markdown",
      "metadata": {
        "id": "XvwwAdKlgpSo"
      },
      "source": [
        "Optionally, you can upload your own image. If you want to do so, uncomment and run the cell below."
      ]
    },
    {
      "cell_type": "code",
      "execution_count": null,
      "metadata": {
        "id": "9cW_V2HvguvE"
      },
      "outputs": [],
      "source": [
        "# from google.colab import files\n",
        "# uploaded = files.upload()\n",
        "\n",
        "# for filename in uploaded:\n",
        "#   content = uploaded[filename]\n",
        "#   with open(filename, 'wb') as f:\n",
        "#     f.write(content)\n",
        "# IMAGE_FILENAMES = list(uploaded.keys())\n",
        "\n",
        "# print('Uploaded files:', IMAGE_FILENAMES)"
      ]
    },
    {
      "cell_type": "markdown",
      "metadata": {
        "id": "P8XRmapjySMN"
      },
      "source": [
        "Then let's check out the images."
      ]
    },
    {
      "cell_type": "markdown",
      "metadata": {
        "id": "Iy4r2_ePylIa"
      },
      "source": [
        "## Running inference and visualizing the results\n",
        "\n",
        "Here are the steps to run gesture recognizer using MediaPipe.\n",
        "\n",
        "Check out the [MediaPipe documentation](https://developers.google.com/mediapipe/solutions/vision/gesture_recognizer/python) to learn more about configuration options that this solution supports.\n",
        "\n",
        "*Note: Gesture Recognizer also returns the hand landmark it detects from the image, together with other useful information such as whether the hand(s) detected are left hand or right hand.*"
      ]
    },
    {
      "cell_type": "code",
      "execution_count": null,
      "metadata": {},
      "outputs": [],
      "source": []
    },
    {
      "cell_type": "code",
      "execution_count": 9,
      "metadata": {
        "colab": {
          "base_uri": "https://localhost:8080/",
          "height": 945
        },
        "id": "KHqaswD6M8iO",
        "outputId": "10e07c9b-d4ce-40b9-fd40-c369c9d6efb2"
      },
      "outputs": [
        {
          "name": "stderr",
          "output_type": "stream",
          "text": [
            "W20230204 20:35:47.436846 91302 gesture_recognizer_graph.cc:121] Hand Gesture Recognizer contains CPU only ops. Sets HandGestureRecognizerGraph acceleartion to Xnnpack.\n",
            "I20230204 20:35:47.438057 91302 hand_gesture_recognizer_graph.cc:249] Custom gesture classifier is not defined.\n"
          ]
        },
        {
          "name": "stdout",
          "output_type": "stream",
          "text": [
            "1\n",
            "GestureRecognizerResult(gestures=[], handedness=[], hand_landmarks=[], hand_world_landmarks=[])\n",
            "2\n",
            "GestureRecognizerResult(gestures=[], handedness=[], hand_landmarks=[], hand_world_landmarks=[])\n",
            "3\n",
            "GestureRecognizerResult(gestures=[], handedness=[], hand_landmarks=[], hand_world_landmarks=[])\n",
            "4\n",
            "GestureRecognizerResult(gestures=[], handedness=[], hand_landmarks=[], hand_world_landmarks=[])\n",
            "5\n",
            "GestureRecognizerResult(gestures=[], handedness=[], hand_landmarks=[], hand_world_landmarks=[])\n",
            "6\n",
            "GestureRecognizerResult(gestures=[], handedness=[], hand_landmarks=[], hand_world_landmarks=[])\n",
            "7\n",
            "GestureRecognizerResult(gestures=[], handedness=[], hand_landmarks=[], hand_world_landmarks=[])\n",
            "8\n",
            "GestureRecognizerResult(gestures=[], handedness=[], hand_landmarks=[], hand_world_landmarks=[])\n",
            "9\n",
            "GestureRecognizerResult(gestures=[], handedness=[], hand_landmarks=[], hand_world_landmarks=[])\n",
            "10\n",
            "GestureRecognizerResult(gestures=[], handedness=[], hand_landmarks=[], hand_world_landmarks=[])\n",
            "11\n",
            "GestureRecognizerResult(gestures=[], handedness=[], hand_landmarks=[], hand_world_landmarks=[])\n",
            "12\n",
            "GestureRecognizerResult(gestures=[], handedness=[], hand_landmarks=[], hand_world_landmarks=[])\n",
            "13\n",
            "GestureRecognizerResult(gestures=[[Category(index=-1, score=0.560901403427124, display_name='', category_name='Open_Palm')]], handedness=[[Category(index=0, score=0.9814016819000244, display_name='Left', category_name='Left')]], hand_landmarks=[[NormalizedLandmark(x=0.354219913482666, y=0.6236426830291748, z=1.5679803766488476e-07, visibility=0.0, presence=0.0), NormalizedLandmark(x=0.39841651916503906, y=0.6074775457382202, z=-0.01865801028907299, visibility=0.0, presence=0.0), NormalizedLandmark(x=0.43722617626190186, y=0.5805114507675171, z=-0.02693335898220539, visibility=0.0, presence=0.0), NormalizedLandmark(x=0.46496087312698364, y=0.5580108761787415, z=-0.034951210021972656, visibility=0.0, presence=0.0), NormalizedLandmark(x=0.4873267412185669, y=0.540752112865448, z=-0.042834945023059845, visibility=0.0, presence=0.0), NormalizedLandmark(x=0.4273622930049896, y=0.47372618317604065, z=-0.007221510633826256, visibility=0.0, presence=0.0), NormalizedLandmark(x=0.4437936842441559, y=0.4168075919151306, z=-0.01891784369945526, visibility=0.0, presence=0.0), NormalizedLandmark(x=0.4508667290210724, y=0.38242632150650024, z=-0.03164329752326012, visibility=0.0, presence=0.0), NormalizedLandmark(x=0.4561302065849304, y=0.3511037826538086, z=-0.04147914797067642, visibility=0.0, presence=0.0), NormalizedLandmark(x=0.4015040993690491, y=0.4582313299179077, z=-0.00897392351180315, visibility=0.0, presence=0.0), NormalizedLandmark(x=0.4176919162273407, y=0.397509902715683, z=-0.019428856670856476, visibility=0.0, presence=0.0), NormalizedLandmark(x=0.425149142742157, y=0.3600758910179138, z=-0.03208701312541962, visibility=0.0, presence=0.0), NormalizedLandmark(x=0.43049174547195435, y=0.32837945222854614, z=-0.0422125868499279, visibility=0.0, presence=0.0), NormalizedLandmark(x=0.3737587034702301, y=0.45515143871307373, z=-0.013904686085879803, visibility=0.0, presence=0.0), NormalizedLandmark(x=0.3855023980140686, y=0.3933079242706299, z=-0.02516321651637554, visibility=0.0, presence=0.0), NormalizedLandmark(x=0.39252349734306335, y=0.35488206148147583, z=-0.0343848392367363, visibility=0.0, presence=0.0), NormalizedLandmark(x=0.3973134756088257, y=0.3242013156414032, z=-0.0412173718214035, visibility=0.0, presence=0.0), NormalizedLandmark(x=0.3420524001121521, y=0.4629078805446625, z=-0.021039841696619987, visibility=0.0, presence=0.0), NormalizedLandmark(x=0.34102335572242737, y=0.4088131785392761, z=-0.03128400444984436, visibility=0.0, presence=0.0), NormalizedLandmark(x=0.3415569067001343, y=0.3731077313423157, z=-0.03616786003112793, visibility=0.0, presence=0.0), NormalizedLandmark(x=0.34274911880493164, y=0.34224462509155273, z=-0.03945682570338249, visibility=0.0, presence=0.0)]], hand_world_landmarks=[[Landmark(x=-0.03871734440326691, y=0.08251474797725677, z=0.02194749005138874, visibility=0.0, presence=0.0), Landmark(x=-0.002471722662448883, y=0.07358013093471527, z=0.00898087490350008, visibility=0.0, presence=0.0), Landmark(x=0.02500825747847557, y=0.06510370969772339, z=-0.0006336573278531432, visibility=0.0, presence=0.0), Landmark(x=0.049664683640003204, y=0.053286291658878326, z=-0.01194992195814848, visibility=0.0, presence=0.0), Landmark(x=0.06880143284797668, y=0.039067719131708145, z=-0.019005918875336647, visibility=0.0, presence=0.0), Landmark(x=0.024511128664016724, y=0.005753001198172569, z=0.005459452047944069, visibility=0.0, presence=0.0), Landmark(x=0.03541835770010948, y=-0.016828397288918495, z=-0.004906428512185812, visibility=0.0, presence=0.0), Landmark(x=0.03977031260728836, y=-0.037662215530872345, z=-0.013510043732821941, visibility=0.0, presence=0.0), Landmark(x=0.040671225637197495, y=-0.05187352001667023, z=-0.04434066638350487, visibility=0.0, presence=0.0), Landmark(x=0.0033252406865358353, y=-0.004676223732531071, z=0.00559112336486578, visibility=0.0, presence=0.0), Landmark(x=0.016647350043058395, y=-0.03459618240594864, z=-0.009110953658819199, visibility=0.0, presence=0.0), Landmark(x=0.021728336811065674, y=-0.05212525650858879, z=-0.03136735409498215, visibility=0.0, presence=0.0), Landmark(x=0.03241291642189026, y=-0.06782763451337814, z=-0.054364170879125595, visibility=0.0, presence=0.0), Landmark(x=-0.01610317826271057, y=-0.006548319477587938, z=-0.0032493146136403084, visibility=0.0, presence=0.0), Landmark(x=-0.0067526306957006454, y=-0.03388648480176926, z=-0.0148981474339962, visibility=0.0, presence=0.0), Landmark(x=0.0004032701253890991, y=-0.04979151487350464, z=-0.03036182001233101, visibility=0.0, presence=0.0), Landmark(x=0.009432053193449974, y=-0.06558903306722641, z=-0.05304504558444023, visibility=0.0, presence=0.0), Landmark(x=-0.039084963500499725, y=0.001969698816537857, z=-0.01181262917816639, visibility=0.0, presence=0.0), Landmark(x=-0.03654347360134125, y=-0.020342949777841568, z=-0.013662684708833694, visibility=0.0, presence=0.0), Landmark(x=-0.03298741206526756, y=-0.04385292902588844, z=-0.022177474573254585, visibility=0.0, presence=0.0), Landmark(x=-0.026850849390029907, y=-0.05940638482570648, z=-0.03542589396238327, visibility=0.0, presence=0.0)]])\n",
            "14\n",
            "GestureRecognizerResult(gestures=[[Category(index=-1, score=0.6862276792526245, display_name='', category_name='Open_Palm')]], handedness=[[Category(index=0, score=0.9788687229156494, display_name='Left', category_name='Left')]], hand_landmarks=[[NormalizedLandmark(x=0.35439664125442505, y=0.61960369348526, z=2.3600667020673427e-07, visibility=0.0, presence=0.0), NormalizedLandmark(x=0.3977729380130768, y=0.6106680631637573, z=-0.021489689126610756, visibility=0.0, presence=0.0), NormalizedLandmark(x=0.44288891553878784, y=0.584768533706665, z=-0.028805449604988098, visibility=0.0, presence=0.0), NormalizedLandmark(x=0.4768368899822235, y=0.560732901096344, z=-0.034882139414548874, visibility=0.0, presence=0.0), NormalizedLandmark(x=0.5048189759254456, y=0.5424903631210327, z=-0.04132094606757164, visibility=0.0, presence=0.0), NormalizedLandmark(x=0.4319409132003784, y=0.48394620418548584, z=-0.007708337157964706, visibility=0.0, presence=0.0), NormalizedLandmark(x=0.44463399052619934, y=0.42919325828552246, z=-0.01952105574309826, visibility=0.0, presence=0.0), NormalizedLandmark(x=0.452677845954895, y=0.393959105014801, z=-0.031963229179382324, visibility=0.0, presence=0.0), NormalizedLandmark(x=0.4582710564136505, y=0.36659735441207886, z=-0.04094273969531059, visibility=0.0, presence=0.0), NormalizedLandmark(x=0.4050832986831665, y=0.4679586589336395, z=-0.006921699270606041, visibility=0.0, presence=0.0), NormalizedLandmark(x=0.4165559411048889, y=0.41153907775878906, z=-0.01729830913245678, visibility=0.0, presence=0.0), NormalizedLandmark(x=0.42382270097732544, y=0.37470948696136475, z=-0.030463755130767822, visibility=0.0, presence=0.0), NormalizedLandmark(x=0.42905741930007935, y=0.34760966897010803, z=-0.04055482894182205, visibility=0.0, presence=0.0), NormalizedLandmark(x=0.3770589530467987, y=0.4651887118816376, z=-0.009459827095270157, visibility=0.0, presence=0.0), NormalizedLandmark(x=0.3833272457122803, y=0.4145532250404358, z=-0.021115342155098915, visibility=0.0, presence=0.0), NormalizedLandmark(x=0.38788264989852905, y=0.3895304501056671, z=-0.02907121367752552, visibility=0.0, presence=0.0), NormalizedLandmark(x=0.39210084080696106, y=0.37429410219192505, z=-0.03435671329498291, visibility=0.0, presence=0.0), NormalizedLandmark(x=0.34547287225723267, y=0.4716019034385681, z=-0.014486703090369701, visibility=0.0, presence=0.0), NormalizedLandmark(x=0.3437591791152954, y=0.42530664801597595, z=-0.025267114862799644, visibility=0.0, presence=0.0), NormalizedLandmark(x=0.34536176919937134, y=0.3946675956249237, z=-0.02990620583295822, visibility=0.0, presence=0.0), NormalizedLandmark(x=0.3496828079223633, y=0.3703068792819977, z=-0.03248612582683563, visibility=0.0, presence=0.0)]], hand_world_landmarks=[[Landmark(x=-0.04030876234173775, y=0.07864774763584137, z=0.023283617570996284, visibility=0.0, presence=0.0), Landmark(x=-0.0050593093037605286, y=0.07052111625671387, z=0.011075645685195923, visibility=0.0, presence=0.0), Landmark(x=0.027037639170885086, y=0.06311409920454025, z=0.006300969514995813, visibility=0.0, presence=0.0), Landmark(x=0.05549217388033867, y=0.051888883113861084, z=-0.002410870511084795, visibility=0.0, presence=0.0), Landmark(x=0.07845228910446167, y=0.03934427350759506, z=-0.0025425951462239027, visibility=0.0, presence=0.0), Landmark(x=0.026461169123649597, y=0.0043290965259075165, z=0.005561628378927708, visibility=0.0, presence=0.0), Landmark(x=0.03582669049501419, y=-0.01855171099305153, z=-0.0012008935445919633, visibility=0.0, presence=0.0), Landmark(x=0.04140166565775871, y=-0.03600155562162399, z=-0.011157594621181488, visibility=0.0, presence=0.0), Landmark(x=0.04495733976364136, y=-0.049186110496520996, z=-0.0385933555662632, visibility=0.0, presence=0.0), Landmark(x=0.0034981933422386646, y=-0.005338837392628193, z=0.005090835504233837, visibility=0.0, presence=0.0), Landmark(x=0.015376714989542961, y=-0.033074118196964264, z=-0.0095512131229043, visibility=0.0, presence=0.0), Landmark(x=0.020300492644309998, y=-0.047669701278209686, z=-0.032064393162727356, visibility=0.0, presence=0.0), Landmark(x=0.030400073155760765, y=-0.06221873313188553, z=-0.05065597593784332, visibility=0.0, presence=0.0), Landmark(x=-0.01599106937646866, y=-0.005122746806591749, z=-0.0033261170610785484, visibility=0.0, presence=0.0), Landmark(x=-0.009210987947881222, y=-0.030463363975286484, z=-0.018607504665851593, visibility=0.0, presence=0.0), Landmark(x=-0.002020426094532013, y=-0.037557829171419144, z=-0.037524305284023285, visibility=0.0, presence=0.0), Landmark(x=0.004401218146085739, y=-0.04486988112330437, z=-0.056353859603405, visibility=0.0, presence=0.0), Landmark(x=-0.03888567537069321, y=0.0029000304639339447, z=-0.010428749956190586, visibility=0.0, presence=0.0), Landmark(x=-0.039172638207674026, y=-0.018006639555096626, z=-0.01494009979069233, visibility=0.0, presence=0.0), Landmark(x=-0.034506525844335556, y=-0.04000731185078621, z=-0.025922365486621857, visibility=0.0, presence=0.0), Landmark(x=-0.024219676852226257, y=-0.052534330636262894, z=-0.038073595613241196, visibility=0.0, presence=0.0)]])\n",
            "15\n",
            "GestureRecognizerResult(gestures=[[Category(index=-1, score=0.6422878503799438, display_name='', category_name='Open_Palm')]], handedness=[[Category(index=0, score=0.9616389274597168, display_name='Left', category_name='Left')]], hand_landmarks=[[NormalizedLandmark(x=0.3592013716697693, y=0.6285130977630615, z=2.986005256389035e-07, visibility=0.0, presence=0.0), NormalizedLandmark(x=0.40366435050964355, y=0.613601803779602, z=-0.02036980725824833, visibility=0.0, presence=0.0), NormalizedLandmark(x=0.44805583357810974, y=0.5818383097648621, z=-0.02638261392712593, visibility=0.0, presence=0.0), NormalizedLandmark(x=0.484841525554657, y=0.5626135468482971, z=-0.03140711411833763, visibility=0.0, presence=0.0), NormalizedLandmark(x=0.5145587921142578, y=0.550653338432312, z=-0.03666312247514725, visibility=0.0, presence=0.0), NormalizedLandmark(x=0.43752095103263855, y=0.4899749159812927, z=-0.005898395087569952, visibility=0.0, presence=0.0), NormalizedLandmark(x=0.4541053771972656, y=0.43926599621772766, z=-0.01618666760623455, visibility=0.0, presence=0.0), NormalizedLandmark(x=0.4647243618965149, y=0.40257373452186584, z=-0.02817363664507866, visibility=0.0, presence=0.0), NormalizedLandmark(x=0.472273588180542, y=0.3714781403541565, z=-0.03721793740987778, visibility=0.0, presence=0.0), NormalizedLandmark(x=0.41178882122039795, y=0.4751386344432831, z=-0.005120355635881424, visibility=0.0, presence=0.0), NormalizedLandmark(x=0.42705169320106506, y=0.41944122314453125, z=-0.012448827736079693, visibility=0.0, presence=0.0), NormalizedLandmark(x=0.4360141456127167, y=0.38056087493896484, z=-0.023237330839037895, visibility=0.0, presence=0.0), NormalizedLandmark(x=0.44191858172416687, y=0.35033440589904785, z=-0.032126620411872864, visibility=0.0, presence=0.0), NormalizedLandmark(x=0.38444000482559204, y=0.4718196988105774, z=-0.007658648304641247, visibility=0.0, presence=0.0), NormalizedLandmark(x=0.39580559730529785, y=0.4235602021217346, z=-0.016298461705446243, visibility=0.0, presence=0.0), NormalizedLandmark(x=0.40162038803100586, y=0.39951446652412415, z=-0.022158389911055565, visibility=0.0, presence=0.0), NormalizedLandmark(x=0.4065166413784027, y=0.3823704123497009, z=-0.026534944772720337, visibility=0.0, presence=0.0), NormalizedLandmark(x=0.35376548767089844, y=0.47794264554977417, z=-0.01288116630166769, visibility=0.0, presence=0.0), NormalizedLandmark(x=0.3551991581916809, y=0.43922722339630127, z=-0.02105839177966118, visibility=0.0, presence=0.0), NormalizedLandmark(x=0.35618239641189575, y=0.4188261032104492, z=-0.023242028430104256, visibility=0.0, presence=0.0), NormalizedLandmark(x=0.35923466086387634, y=0.4023485779762268, z=-0.024335548281669617, visibility=0.0, presence=0.0)]], hand_world_landmarks=[[Landmark(x=-0.03786518797278404, y=0.08228332549333572, z=0.01306476816534996, visibility=0.0, presence=0.0), Landmark(x=-0.0025640390813350677, y=0.0736531987786293, z=0.001805974286980927, visibility=0.0, presence=0.0), Landmark(x=0.029299210757017136, y=0.06435684114694595, z=0.002368283923715353, visibility=0.0, presence=0.0), Landmark(x=0.059193529188632965, y=0.04954330995678902, z=0.0038357232697308064, visibility=0.0, presence=0.0), Landmark(x=0.08380075544118881, y=0.03959992527961731, z=0.015171755105257034, visibility=0.0, presence=0.0), Landmark(x=0.025990080088377, y=0.005487223155796528, z=0.006684227380901575, visibility=0.0, presence=0.0), Landmark(x=0.03877342492341995, y=-0.01760030910372734, z=-0.00065755529794842, visibility=0.0, presence=0.0), Landmark(x=0.04721108824014664, y=-0.03780652955174446, z=-0.01203086506575346, visibility=0.0, presence=0.0), Landmark(x=0.05050668865442276, y=-0.04972211644053459, z=-0.0395793579518795, visibility=0.0, presence=0.0), Landmark(x=0.0033055006060749292, y=-0.005370027851313353, z=0.006099171470850706, visibility=0.0, presence=0.0), Landmark(x=0.016666775569319725, y=-0.03331054002046585, z=-0.010271450504660606, visibility=0.0, presence=0.0), Landmark(x=0.022741805762052536, y=-0.04991918057203293, z=-0.03196394816040993, visibility=0.0, presence=0.0), Landmark(x=0.032728761434555054, y=-0.06596696376800537, z=-0.05128230154514313, visibility=0.0, presence=0.0), Landmark(x=-0.017633628100156784, y=-0.0057617658749222755, z=-0.0030928319320082664, visibility=0.0, presence=0.0), Landmark(x=-0.00814199447631836, y=-0.030363451689481735, z=-0.022851871326565742, visibility=0.0, presence=0.0), Landmark(x=0.0002292841672897339, y=-0.03624165803194046, z=-0.0401141457259655, visibility=0.0, presence=0.0), Landmark(x=0.006165200844407082, y=-0.0437336266040802, z=-0.0606517493724823, visibility=0.0, presence=0.0), Landmark(x=-0.04049772024154663, y=0.002356627956032753, z=-0.013156265951693058, visibility=0.0, presence=0.0), Landmark(x=-0.03709998354315758, y=-0.016535766422748566, z=-0.019866667687892914, visibility=0.0, presence=0.0), Landmark(x=-0.03471384942531586, y=-0.030360374599695206, z=-0.03199801221489906, visibility=0.0, presence=0.0), Landmark(x=-0.023661961778998375, y=-0.037206098437309265, z=-0.0391409695148468, visibility=0.0, presence=0.0)]])\n",
            "16\n",
            "GestureRecognizerResult(gestures=[[Category(index=-1, score=0.7901452779769897, display_name='', category_name='ILoveYou')]], handedness=[[Category(index=0, score=0.9837169647216797, display_name='Left', category_name='Left')]], hand_landmarks=[[NormalizedLandmark(x=0.3573090434074402, y=0.6287087202072144, z=1.4719211094416096e-07, visibility=0.0, presence=0.0), NormalizedLandmark(x=0.400940477848053, y=0.6251490712165833, z=-0.02315991185605526, visibility=0.0, presence=0.0), NormalizedLandmark(x=0.44837409257888794, y=0.5927650928497314, z=-0.03135203942656517, visibility=0.0, presence=0.0), NormalizedLandmark(x=0.4862825870513916, y=0.5686190724372864, z=-0.0381464809179306, visibility=0.0, presence=0.0), NormalizedLandmark(x=0.5170331001281738, y=0.557835578918457, z=-0.04470186308026314, visibility=0.0, presence=0.0), NormalizedLandmark(x=0.43475624918937683, y=0.501448929309845, z=-0.015252342447638512, visibility=0.0, presence=0.0), NormalizedLandmark(x=0.4513353407382965, y=0.4415362477302551, z=-0.02588476426899433, visibility=0.0, presence=0.0), NormalizedLandmark(x=0.4648606777191162, y=0.40089094638824463, z=-0.03472529724240303, visibility=0.0, presence=0.0), NormalizedLandmark(x=0.4755120873451233, y=0.3670156002044678, z=-0.041820380836725235, visibility=0.0, presence=0.0), NormalizedLandmark(x=0.4087522327899933, y=0.4869017004966736, z=-0.013627566397190094, visibility=0.0, presence=0.0), NormalizedLandmark(x=0.41748762130737305, y=0.44477033615112305, z=-0.030667059123516083, visibility=0.0, presence=0.0), NormalizedLandmark(x=0.4122946262359619, y=0.45406827330589294, z=-0.04121297225356102, visibility=0.0, presence=0.0), NormalizedLandmark(x=0.4098130166530609, y=0.46303024888038635, z=-0.04674682766199112, visibility=0.0, presence=0.0), NormalizedLandmark(x=0.3800305128097534, y=0.4829407036304474, z=-0.014615803956985474, visibility=0.0, presence=0.0), NormalizedLandmark(x=0.3885384202003479, y=0.4531193971633911, z=-0.03502344340085983, visibility=0.0, presence=0.0), NormalizedLandmark(x=0.380516916513443, y=0.4778990149497986, z=-0.03869038447737694, visibility=0.0, presence=0.0), NormalizedLandmark(x=0.37410199642181396, y=0.49926817417144775, z=-0.037597302347421646, visibility=0.0, presence=0.0), NormalizedLandmark(x=0.34979963302612305, y=0.48561891913414, z=-0.017520511522889137, visibility=0.0, presence=0.0), NormalizedLandmark(x=0.3530324697494507, y=0.4377792179584503, z=-0.03192121535539627, visibility=0.0, presence=0.0), NormalizedLandmark(x=0.35338279604911804, y=0.40854978561401367, z=-0.03468671068549156, visibility=0.0, presence=0.0), NormalizedLandmark(x=0.3542608320713043, y=0.381009042263031, z=-0.03527578338980675, visibility=0.0, presence=0.0)]], hand_world_landmarks=[[Landmark(x=-0.03487584739923477, y=0.0804339051246643, z=0.009222953580319881, visibility=0.0, presence=0.0), Landmark(x=0.0006849095225334167, y=0.07161672413349152, z=-0.003087519435212016, visibility=0.0, presence=0.0), Landmark(x=0.030503708869218826, y=0.06014242395758629, z=0.00292889098636806, visibility=0.0, presence=0.0), Landmark(x=0.059399962425231934, y=0.04538102075457573, z=0.009884313680231571, visibility=0.0, presence=0.0), Landmark(x=0.08366325497627258, y=0.03523832559585571, z=0.025373755022883415, visibility=0.0, presence=0.0), Landmark(x=0.026024367660284042, y=0.005834345705807209, z=0.007417124696075916, visibility=0.0, presence=0.0), Landmark(x=0.03521019220352173, y=-0.01974901556968689, z=0.002661750651896, visibility=0.0, presence=0.0), Landmark(x=0.04497132822871208, y=-0.040623195469379425, z=-0.006129521876573563, visibility=0.0, presence=0.0), Landmark(x=0.05243246629834175, y=-0.05684296414256096, z=-0.032310765236616135, visibility=0.0, presence=0.0), Landmark(x=0.002774264197796583, y=-0.005522696301341057, z=0.0059480308555066586, visibility=0.0, presence=0.0), Landmark(x=0.010856901295483112, y=-0.02148742973804474, z=-0.02124750055372715, visibility=0.0, presence=0.0), Landmark(x=0.007988899946212769, y=-0.015151864849030972, z=-0.04260043799877167, visibility=0.0, presence=0.0), Landmark(x=0.009287014603614807, y=-0.008236068300902843, z=-0.04790757969021797, visibility=0.0, presence=0.0), Landmark(x=-0.01714000664651394, y=-0.0055938828736543655, z=-0.0026558449026197195, visibility=0.0, presence=0.0), Landmark(x=-0.011087257415056229, y=-0.01808985322713852, z=-0.027775095775723457, visibility=0.0, presence=0.0), Landmark(x=-0.011142686009407043, y=-0.0005247383378446102, z=-0.03979836776852608, visibility=0.0, presence=0.0), Landmark(x=-0.01321918424218893, y=0.013164174742996693, z=-0.04706655815243721, visibility=0.0, presence=0.0), Landmark(x=-0.03821844235062599, y=0.0022802837193012238, z=-0.013982563279569149, visibility=0.0, presence=0.0), Landmark(x=-0.03788921609520912, y=-0.021173574030399323, z=-0.020046798512339592, visibility=0.0, presence=0.0), Landmark(x=-0.03413359820842743, y=-0.04076803848147392, z=-0.027357356622815132, visibility=0.0, presence=0.0), Landmark(x=-0.026885297149419785, y=-0.05513627454638481, z=-0.0381905622780323, visibility=0.0, presence=0.0)]])\n",
            "17\n",
            "GestureRecognizerResult(gestures=[[Category(index=-1, score=0.6269139647483826, display_name='', category_name='Open_Palm')]], handedness=[[Category(index=0, score=0.9668664932250977, display_name='Left', category_name='Left')]], hand_landmarks=[[NormalizedLandmark(x=0.3512827157974243, y=0.6319482326507568, z=3.195501676600543e-07, visibility=0.0, presence=0.0), NormalizedLandmark(x=0.39907360076904297, y=0.6219288110733032, z=-0.02345643751323223, visibility=0.0, presence=0.0), NormalizedLandmark(x=0.4470770061016083, y=0.586003839969635, z=-0.03117542341351509, visibility=0.0, presence=0.0), NormalizedLandmark(x=0.4865526556968689, y=0.5614286661148071, z=-0.037360627204179764, visibility=0.0, presence=0.0), NormalizedLandmark(x=0.5204463005065918, y=0.5485565662384033, z=-0.04374842718243599, visibility=0.0, presence=0.0), NormalizedLandmark(x=0.4317322075366974, y=0.48344334959983826, z=-0.010220590978860855, visibility=0.0, presence=0.0), NormalizedLandmark(x=0.4497207701206207, y=0.4286685585975647, z=-0.02085932157933712, visibility=0.0, presence=0.0), NormalizedLandmark(x=0.46156740188598633, y=0.3924894630908966, z=-0.03244078904390335, visibility=0.0, presence=0.0), NormalizedLandmark(x=0.4703153371810913, y=0.36093011498451233, z=-0.04175548627972603, visibility=0.0, presence=0.0), NormalizedLandmark(x=0.40356358885765076, y=0.46677571535110474, z=-0.009254908189177513, visibility=0.0, presence=0.0), NormalizedLandmark(x=0.4191180169582367, y=0.4026409983634949, z=-0.017584936693310738, visibility=0.0, presence=0.0), NormalizedLandmark(x=0.4286234676837921, y=0.3614310622215271, z=-0.02905932441353798, visibility=0.0, presence=0.0), NormalizedLandmark(x=0.4352734684944153, y=0.32924091815948486, z=-0.03866514563560486, visibility=0.0, presence=0.0), NormalizedLandmark(x=0.3745562732219696, y=0.46448948979377747, z=-0.01189611665904522, visibility=0.0, presence=0.0), NormalizedLandmark(x=0.3867591619491577, y=0.4054282009601593, z=-0.02194035053253174, visibility=0.0, presence=0.0), NormalizedLandmark(x=0.39544230699539185, y=0.3680027723312378, z=-0.030280528590083122, visibility=0.0, presence=0.0), NormalizedLandmark(x=0.40217524766921997, y=0.3388449251651764, z=-0.036630768328905106, visibility=0.0, presence=0.0), NormalizedLandmark(x=0.3427180051803589, y=0.473748117685318, z=-0.017232762649655342, visibility=0.0, presence=0.0), NormalizedLandmark(x=0.34304147958755493, y=0.4238121807575226, z=-0.027674542739987373, visibility=0.0, presence=0.0), NormalizedLandmark(x=0.3447049856185913, y=0.38869887590408325, z=-0.03278324007987976, visibility=0.0, presence=0.0), NormalizedLandmark(x=0.3489903211593628, y=0.35768747329711914, z=-0.03610238805413246, visibility=0.0, presence=0.0)]], hand_world_landmarks=[[Landmark(x=-0.036532483994960785, y=0.08318854868412018, z=0.00740430224686861, visibility=0.0, presence=0.0), Landmark(x=-0.0010681822896003723, y=0.07339499890804291, z=-0.0021204682998359203, visibility=0.0, presence=0.0), Landmark(x=0.03004813939332962, y=0.06399311870336533, z=-0.0019067036919295788, visibility=0.0, presence=0.0), Landmark(x=0.05978895723819733, y=0.04866388067603111, z=0.004170532803982496, visibility=0.0, presence=0.0), Landmark(x=0.08440051972866058, y=0.03617514669895172, z=0.01616933010518551, visibility=0.0, presence=0.0), Landmark(x=0.025259824469685555, y=0.004744129255414009, z=0.006402875296771526, visibility=0.0, presence=0.0), Landmark(x=0.037859417498111725, y=-0.01862981542944908, z=-0.0005516735254786909, visibility=0.0, presence=0.0), Landmark(x=0.04708942398428917, y=-0.03590340167284012, z=-0.011831988580524921, visibility=0.0, presence=0.0), Landmark(x=0.05162963643670082, y=-0.047934744507074356, z=-0.04326529800891876, visibility=0.0, presence=0.0), Landmark(x=0.002510766964405775, y=-0.005740269087255001, z=0.006390714086592197, visibility=0.0, presence=0.0), Landmark(x=0.016873128712177277, y=-0.03631368651986122, z=-0.00805066991597414, visibility=0.0, presence=0.0), Landmark(x=0.022355159744620323, y=-0.054301828145980835, z=-0.03011859953403473, visibility=0.0, presence=0.0), Landmark(x=0.03261684626340866, y=-0.06825294345617294, z=-0.053596287965774536, visibility=0.0, presence=0.0), Landmark(x=-0.0169345922768116, y=-0.005990637466311455, z=-0.0031886284705251455, visibility=0.0, presence=0.0), Landmark(x=-0.0077037448063492775, y=-0.034474074840545654, z=-0.016781995072960854, visibility=0.0, presence=0.0), Landmark(x=0.0013385210186243057, y=-0.04888439178466797, z=-0.033751457929611206, visibility=0.0, presence=0.0), Landmark(x=0.009729830548167229, y=-0.06058918312191963, z=-0.055725447833538055, visibility=0.0, presence=0.0), Landmark(x=-0.038349274545907974, y=0.003017343580722809, z=-0.013401641510426998, visibility=0.0, presence=0.0), Landmark(x=-0.036916740238666534, y=-0.017961423844099045, z=-0.01706613227725029, visibility=0.0, presence=0.0), Landmark(x=-0.03293394297361374, y=-0.04036254808306694, z=-0.025207968428730965, visibility=0.0, presence=0.0), Landmark(x=-0.02288200519979, y=-0.05517906695604324, z=-0.034844979643821716, visibility=0.0, presence=0.0)]])\n",
            "18\n",
            "GestureRecognizerResult(gestures=[[Category(index=-1, score=0.5998027324676514, display_name='', category_name='None')]], handedness=[[Category(index=0, score=0.9186672568321228, display_name='Left', category_name='Left')]], hand_landmarks=[[NormalizedLandmark(x=0.3242097795009613, y=0.6324527859687805, z=7.309952820833132e-08, visibility=0.0, presence=0.0), NormalizedLandmark(x=0.38434672355651855, y=0.6256363391876221, z=-0.020623382180929184, visibility=0.0, presence=0.0), NormalizedLandmark(x=0.4380805492401123, y=0.5908772349357605, z=-0.025164498016238213, visibility=0.0, presence=0.0), NormalizedLandmark(x=0.4819084703922272, y=0.5540601015090942, z=-0.02996581606566906, visibility=0.0, presence=0.0), NormalizedLandmark(x=0.5165546536445618, y=0.5347298979759216, z=-0.03514332324266434, visibility=0.0, presence=0.0), NormalizedLandmark(x=0.41929835081100464, y=0.5015691518783569, z=0.0035982646513730288, visibility=0.0, presence=0.0), NormalizedLandmark(x=0.437484472990036, y=0.43117034435272217, z=-0.008105519227683544, visibility=0.0, presence=0.0), NormalizedLandmark(x=0.44937917590141296, y=0.3875027596950531, z=-0.021692587062716484, visibility=0.0, presence=0.0), NormalizedLandmark(x=0.4558034837245941, y=0.35336393117904663, z=-0.03205883502960205, visibility=0.0, presence=0.0), NormalizedLandmark(x=0.3886208236217499, y=0.48431986570358276, z=0.004749600775539875, visibility=0.0, presence=0.0), NormalizedLandmark(x=0.39669081568717957, y=0.43600693345069885, z=-0.02006378024816513, visibility=0.0, presence=0.0), NormalizedLandmark(x=0.38926294445991516, y=0.4468598961830139, z=-0.041398100554943085, visibility=0.0, presence=0.0), NormalizedLandmark(x=0.3749203681945801, y=0.46633854508399963, z=-0.05175108090043068, visibility=0.0, presence=0.0), NormalizedLandmark(x=0.35984885692596436, y=0.4776346683502197, z=0.0026021930389106274, visibility=0.0, presence=0.0), NormalizedLandmark(x=0.3678009510040283, y=0.4345863461494446, z=-0.022217577323317528, visibility=0.0, presence=0.0), NormalizedLandmark(x=0.35787948966026306, y=0.44137701392173767, z=-0.034685324877500534, visibility=0.0, presence=0.0), NormalizedLandmark(x=0.3421483337879181, y=0.459442138671875, z=-0.037382252514362335, visibility=0.0, presence=0.0), NormalizedLandmark(x=0.3317809998989105, y=0.4783852696418762, z=-0.0014113850193098187, visibility=0.0, presence=0.0), NormalizedLandmark(x=0.33309319615364075, y=0.4413198232650757, z=-0.02014540694653988, visibility=0.0, presence=0.0), NormalizedLandmark(x=0.3303656578063965, y=0.4366578459739685, z=-0.02754996344447136, visibility=0.0, presence=0.0), NormalizedLandmark(x=0.3244631588459015, y=0.44324466586112976, z=-0.029046474024653435, visibility=0.0, presence=0.0)]], hand_world_landmarks=[[Landmark(x=-0.032246239483356476, y=0.06812696158885956, z=-0.012161989696323872, visibility=0.0, presence=0.0), Landmark(x=-0.0012615285813808441, y=0.060955263674259186, z=-0.01482410915195942, visibility=0.0, presence=0.0), Landmark(x=0.0329853817820549, y=0.054111164063215256, z=-0.011181376874446869, visibility=0.0, presence=0.0), Landmark(x=0.06216643005609512, y=0.03632262349128723, z=-0.0017971160123124719, visibility=0.0, presence=0.0), Landmark(x=0.08672168850898743, y=0.021300189197063446, z=0.012171297334134579, visibility=0.0, presence=0.0), Landmark(x=0.023956794291734695, y=0.006352557800710201, z=0.006744365207850933, visibility=0.0, presence=0.0), Landmark(x=0.03325200080871582, y=-0.01805935800075531, z=0.004950007423758507, visibility=0.0, presence=0.0), Landmark(x=0.0421253964304924, y=-0.0376933328807354, z=-0.004760872572660446, visibility=0.0, presence=0.0), Landmark(x=0.046407539397478104, y=-0.051650505512952805, z=-0.027461931109428406, visibility=0.0, presence=0.0), Landmark(x=0.0018603523494675756, y=-0.00428966386243701, z=0.007713815663009882, visibility=0.0, presence=0.0), Landmark(x=0.011726663447916508, y=-0.021961882710456848, z=-0.012572405859827995, visibility=0.0, presence=0.0), Landmark(x=0.006627724971622229, y=-0.015347031876444817, z=-0.033295176923274994, visibility=0.0, presence=0.0), Landmark(x=0.003986119292676449, y=-0.004699484910815954, z=-0.041541460901498795, visibility=0.0, presence=0.0), Landmark(x=-0.01506815105676651, y=-0.00694379024207592, z=-0.0030478546395897865, visibility=0.0, presence=0.0), Landmark(x=-0.009459927678108215, y=-0.02264445647597313, z=-0.02306753396987915, visibility=0.0, presence=0.0), Landmark(x=-0.011168251745402813, y=-0.014959217980504036, z=-0.04119747504591942, visibility=0.0, presence=0.0), Landmark(x=-0.01593661867082119, y=-0.004141800105571747, z=-0.05383429303765297, visibility=0.0, presence=0.0), Landmark(x=-0.03639969602227211, y=-0.003276519477367401, z=-0.014207669533789158, visibility=0.0, presence=0.0), Landmark(x=-0.032429009675979614, y=-0.01618197187781334, z=-0.023815225809812546, visibility=0.0, presence=0.0), Landmark(x=-0.02890334278345108, y=-0.022783851251006126, z=-0.03938071057200432, visibility=0.0, presence=0.0), Landmark(x=-0.027293533086776733, y=-0.020705966278910637, z=-0.04847899079322815, visibility=0.0, presence=0.0)]])\n",
            "19\n",
            "GestureRecognizerResult(gestures=[[Category(index=-1, score=0.5673724412918091, display_name='', category_name='None')]], handedness=[[Category(index=0, score=0.9540014266967773, display_name='Left', category_name='Left')]], hand_landmarks=[[NormalizedLandmark(x=0.30794522166252136, y=0.6316572427749634, z=5.7600228586807134e-08, visibility=0.0, presence=0.0), NormalizedLandmark(x=0.37171506881713867, y=0.624977707862854, z=-0.024904634803533554, visibility=0.0, presence=0.0), NormalizedLandmark(x=0.4328422546386719, y=0.5828896760940552, z=-0.03223026543855667, visibility=0.0, presence=0.0), NormalizedLandmark(x=0.47964930534362793, y=0.5433713793754578, z=-0.03844918683171272, visibility=0.0, presence=0.0), NormalizedLandmark(x=0.5172894597053528, y=0.5206755995750427, z=-0.04430566728115082, visibility=0.0, presence=0.0), NormalizedLandmark(x=0.41690605878829956, y=0.46336647868156433, z=-0.006006353069096804, visibility=0.0, presence=0.0), NormalizedLandmark(x=0.4379649758338928, y=0.37715011835098267, z=-0.019593585282564163, visibility=0.0, presence=0.0), NormalizedLandmark(x=0.44949328899383545, y=0.323239803314209, z=-0.034247465431690216, visibility=0.0, presence=0.0), NormalizedLandmark(x=0.45596224069595337, y=0.2791968882083893, z=-0.04616817459464073, visibility=0.0, presence=0.0), NormalizedLandmark(x=0.3809126913547516, y=0.4434705376625061, z=-0.0035510393790900707, visibility=0.0, presence=0.0), NormalizedLandmark(x=0.38535457849502563, y=0.3981234133243561, z=-0.0260535329580307, visibility=0.0, presence=0.0), NormalizedLandmark(x=0.3800293207168579, y=0.41924285888671875, z=-0.042949333786964417, visibility=0.0, presence=0.0), NormalizedLandmark(x=0.37495189905166626, y=0.44093942642211914, z=-0.05240853875875473, visibility=0.0, presence=0.0), NormalizedLandmark(x=0.34500399231910706, y=0.4363406300544739, z=-0.004783094394952059, visibility=0.0, presence=0.0), NormalizedLandmark(x=0.3535815477371216, y=0.38260114192962646, z=-0.025719432160258293, visibility=0.0, presence=0.0), NormalizedLandmark(x=0.3532526195049286, y=0.3788290023803711, z=-0.03262544795870781, visibility=0.0, presence=0.0), NormalizedLandmark(x=0.3507065773010254, y=0.38037896156311035, z=-0.035006582736968994, visibility=0.0, presence=0.0), NormalizedLandmark(x=0.31007736921310425, y=0.4380784034729004, z=-0.008643965236842632, visibility=0.0, presence=0.0), NormalizedLandmark(x=0.3137280344963074, y=0.38840243220329285, z=-0.024594591930508614, visibility=0.0, presence=0.0), NormalizedLandmark(x=0.31659433245658875, y=0.37425005435943604, z=-0.028196541592478752, visibility=0.0, presence=0.0), NormalizedLandmark(x=0.32004159688949585, y=0.36660438776016235, z=-0.028660165145993233, visibility=0.0, presence=0.0)]], hand_world_landmarks=[[Landmark(x=-0.03862757980823517, y=0.07413376867771149, z=0.005663113668560982, visibility=0.0, presence=0.0), Landmark(x=-0.0048467423766851425, y=0.06803828477859497, z=-0.0021945384796708822, visibility=0.0, presence=0.0), Landmark(x=0.026452146470546722, y=0.05842804163694382, z=0.0017760713817551732, visibility=0.0, presence=0.0), Landmark(x=0.056871600449085236, y=0.04171470180153847, z=0.007960794493556023, visibility=0.0, presence=0.0), Landmark(x=0.07985366880893707, y=0.02952532283961773, z=0.02489500865340233, visibility=0.0, presence=0.0), Landmark(x=0.023153675720095634, y=0.006635889410972595, z=0.007646623998880386, visibility=0.0, presence=0.0), Landmark(x=0.03464458882808685, y=-0.0194716639816761, z=0.005897759925574064, visibility=0.0, presence=0.0), Landmark(x=0.044394757598638535, y=-0.043923430144786835, z=-0.003080597845837474, visibility=0.0, presence=0.0), Landmark(x=0.04912716522812843, y=-0.059268396347761154, z=-0.027228660881519318, visibility=0.0, presence=0.0), Landmark(x=0.0025894492864608765, y=-0.004528465680778027, z=0.006608540192246437, visibility=0.0, presence=0.0), Landmark(x=0.010089591145515442, y=-0.01952866092324257, z=-0.016374286264181137, visibility=0.0, presence=0.0), Landmark(x=0.007083342410624027, y=-0.0096110999584198, z=-0.031855933368206024, visibility=0.0, presence=0.0), Landmark(x=0.009147699922323227, y=-0.000483647920191288, z=-0.03700736537575722, visibility=0.0, presence=0.0), Landmark(x=-0.015463235788047314, y=-0.006263586692512035, z=-0.004125486593693495, visibility=0.0, presence=0.0), Landmark(x=-0.009873580187559128, y=-0.02331317402422428, z=-0.02431037649512291, visibility=0.0, presence=0.0), Landmark(x=-0.007131147664040327, y=-0.018644342198967934, z=-0.03831318020820618, visibility=0.0, presence=0.0), Landmark(x=-0.006431375164538622, y=-0.017411287873983383, z=-0.051799971610307693, visibility=0.0, presence=0.0), Landmark(x=-0.03760848566889763, y=-7.470324635505676e-05, z=-0.015378382988274097, visibility=0.0, presence=0.0), Landmark(x=-0.032579898834228516, y=-0.016746167093515396, z=-0.024000056087970734, visibility=0.0, presence=0.0), Landmark(x=-0.027757948264479637, y=-0.026494042947888374, z=-0.03826850652694702, visibility=0.0, presence=0.0), Landmark(x=-0.02164176106452942, y=-0.03008267655968666, z=-0.04563087597489357, visibility=0.0, presence=0.0)]])\n",
            "20\n",
            "GestureRecognizerResult(gestures=[], handedness=[], hand_landmarks=[], hand_world_landmarks=[])\n",
            "21\n",
            "GestureRecognizerResult(gestures=[], handedness=[], hand_landmarks=[], hand_world_landmarks=[])\n",
            "22\n",
            "GestureRecognizerResult(gestures=[], handedness=[], hand_landmarks=[], hand_world_landmarks=[])\n",
            "23\n",
            "GestureRecognizerResult(gestures=[], handedness=[], hand_landmarks=[], hand_world_landmarks=[])\n",
            "24\n",
            "GestureRecognizerResult(gestures=[], handedness=[], hand_landmarks=[], hand_world_landmarks=[])\n",
            "25\n",
            "GestureRecognizerResult(gestures=[], handedness=[], hand_landmarks=[], hand_world_landmarks=[])\n",
            "26\n",
            "GestureRecognizerResult(gestures=[[Category(index=-1, score=0.5597640872001648, display_name='', category_name='Open_Palm')]], handedness=[[Category(index=0, score=0.9371435046195984, display_name='Left', category_name='Left')]], hand_landmarks=[[NormalizedLandmark(x=0.2589337229728699, y=0.83907151222229, z=4.428214026575006e-07, visibility=0.0, presence=0.0), NormalizedLandmark(x=0.3734147846698761, y=0.8397612571716309, z=-0.07075729966163635, visibility=0.0, presence=0.0), NormalizedLandmark(x=0.4942631125450134, y=0.7514023780822754, z=-0.09717056155204773, visibility=0.0, presence=0.0), NormalizedLandmark(x=0.589284360408783, y=0.6768704652786255, z=-0.1169387549161911, visibility=0.0, presence=0.0), NormalizedLandmark(x=0.662969172000885, y=0.6157398223876953, z=-0.1387220174074173, visibility=0.0, presence=0.0), NormalizedLandmark(x=0.44655275344848633, y=0.49563419818878174, z=-0.060981523245573044, visibility=0.0, presence=0.0), NormalizedLandmark(x=0.4808407723903656, y=0.32172268629074097, z=-0.10204551368951797, visibility=0.0, presence=0.0), NormalizedLandmark(x=0.4979926645755768, y=0.2028815746307373, z=-0.13985560834407806, visibility=0.0, presence=0.0), NormalizedLandmark(x=0.5079139471054077, y=0.10154485702514648, z=-0.1696932464838028, visibility=0.0, presence=0.0), NormalizedLandmark(x=0.3640705943107605, y=0.45207512378692627, z=-0.057366374880075455, visibility=0.0, presence=0.0), NormalizedLandmark(x=0.3880707621574402, y=0.2681874632835388, z=-0.09344302862882614, visibility=0.0, presence=0.0), NormalizedLandmark(x=0.3989759087562561, y=0.14668139815330505, z=-0.13343018293380737, visibility=0.0, presence=0.0), NormalizedLandmark(x=0.3991733193397522, y=0.05345141887664795, z=-0.16552315652370453, visibility=0.0, presence=0.0), NormalizedLandmark(x=0.2829768657684326, y=0.4552604556083679, z=-0.06106110289692879, visibility=0.0, presence=0.0), NormalizedLandmark(x=0.2957269251346588, y=0.28763264417648315, z=-0.09724012017250061, visibility=0.0, presence=0.0), NormalizedLandmark(x=0.3012997806072235, y=0.17799443006515503, z=-0.12426570802927017, visibility=0.0, presence=0.0), NormalizedLandmark(x=0.30396726727485657, y=0.09271442890167236, z=-0.1446828991174698, visibility=0.0, presence=0.0), NormalizedLandmark(x=0.20362548530101776, y=0.49689552187919617, z=-0.07165610045194626, visibility=0.0, presence=0.0), NormalizedLandmark(x=0.19382363557815552, y=0.3670085370540619, z=-0.1076088696718216, visibility=0.0, presence=0.0), NormalizedLandmark(x=0.18695779144763947, y=0.2786141037940979, z=-0.12276214361190796, visibility=0.0, presence=0.0), NormalizedLandmark(x=0.1838044971227646, y=0.20381134748458862, z=-0.13254506886005402, visibility=0.0, presence=0.0)]], hand_world_landmarks=[[Landmark(x=-0.03167010471224785, y=0.06682455539703369, z=0.033785607665777206, visibility=0.0, presence=0.0), Landmark(x=0.0009220950305461884, y=0.06181588023900986, z=0.016561666503548622, visibility=0.0, presence=0.0), Landmark(x=0.028896288946270943, y=0.055313851684331894, z=0.004030383192002773, visibility=0.0, presence=0.0), Landmark(x=0.057642366737127304, y=0.043006766587495804, z=-0.008894865401089191, visibility=0.0, presence=0.0), Landmark(x=0.08179286122322083, y=0.027894429862499237, z=-0.014359003864228725, visibility=0.0, presence=0.0), Landmark(x=0.01993049494922161, y=0.004193632863461971, z=0.001997297164052725, visibility=0.0, presence=0.0), Landmark(x=0.033499013632535934, y=-0.01844707503914833, z=-0.00543989660218358, visibility=0.0, presence=0.0), Landmark(x=0.03952309116721153, y=-0.04085078835487366, z=-0.011016479693353176, visibility=0.0, presence=0.0), Landmark(x=0.04260605201125145, y=-0.057566821575164795, z=-0.03591090068221092, visibility=0.0, presence=0.0), Landmark(x=0.0028432984836399555, y=-0.006201482843607664, z=0.005031270440667868, visibility=0.0, presence=0.0), Landmark(x=0.012345204129815102, y=-0.03250858932733536, z=-0.004569886717945337, visibility=0.0, presence=0.0), Landmark(x=0.01654358208179474, y=-0.056942351162433624, z=-0.025959515944123268, visibility=0.0, presence=0.0), Landmark(x=0.02344360388815403, y=-0.07391531765460968, z=-0.045806530863046646, visibility=0.0, presence=0.0), Landmark(x=-0.012869520112872124, y=-0.0036022611893713474, z=-0.0013334639370441437, visibility=0.0, presence=0.0), Landmark(x=-0.009558502584695816, y=-0.03333578258752823, z=-0.01074143685400486, visibility=0.0, presence=0.0), Landmark(x=-0.0038240551948547363, y=-0.04778566211462021, z=-0.026481742039322853, visibility=0.0, presence=0.0), Landmark(x=0.0015540383756160736, y=-0.06485722959041595, z=-0.045656513422727585, visibility=0.0, presence=0.0), Landmark(x=-0.03537202626466751, y=0.001581188291311264, z=-0.004749896936118603, visibility=0.0, presence=0.0), Landmark(x=-0.0329163521528244, y=-0.014430656097829342, z=-0.00961992796510458, visibility=0.0, presence=0.0), Landmark(x=-0.03252696618437767, y=-0.033060360699892044, z=-0.019963080063462257, visibility=0.0, presence=0.0), Landmark(x=-0.026626283302903175, y=-0.049109652638435364, z=-0.03185396268963814, visibility=0.0, presence=0.0)]])\n",
            "27\n",
            "GestureRecognizerResult(gestures=[[Category(index=-1, score=0.585211992263794, display_name='', category_name='Open_Palm')]], handedness=[[Category(index=0, score=0.9763133525848389, display_name='Left', category_name='Left')]], hand_landmarks=[[NormalizedLandmark(x=0.2945172190666199, y=0.8627327084541321, z=6.700840344819881e-07, visibility=0.0, presence=0.0), NormalizedLandmark(x=0.4027211368083954, y=0.8297803401947021, z=-0.06437796354293823, visibility=0.0, presence=0.0), NormalizedLandmark(x=0.5001159906387329, y=0.7271765470504761, z=-0.09227588772773743, visibility=0.0, presence=0.0), NormalizedLandmark(x=0.5813708305358887, y=0.6433861255645752, z=-0.11492746323347092, visibility=0.0, presence=0.0), NormalizedLandmark(x=0.6513503193855286, y=0.5842453241348267, z=-0.13774807751178741, visibility=0.0, presence=0.0), NormalizedLandmark(x=0.4534780979156494, y=0.48074012994766235, z=-0.05861213430762291, visibility=0.0, presence=0.0), NormalizedLandmark(x=0.4946005046367645, y=0.31283053755760193, z=-0.09867100417613983, visibility=0.0, presence=0.0), NormalizedLandmark(x=0.5170071721076965, y=0.2020222395658493, z=-0.13310055434703827, visibility=0.0, presence=0.0), NormalizedLandmark(x=0.5305734872817993, y=0.10096970200538635, z=-0.15947014093399048, visibility=0.0, presence=0.0), NormalizedLandmark(x=0.37790876626968384, y=0.43768399953842163, z=-0.05635325610637665, visibility=0.0, presence=0.0), NormalizedLandmark(x=0.40438681840896606, y=0.25124573707580566, z=-0.09183602035045624, visibility=0.0, presence=0.0), NormalizedLandmark(x=0.416568398475647, y=0.12839758396148682, z=-0.12523694336414337, visibility=0.0, presence=0.0), NormalizedLandmark(x=0.4198051989078522, y=0.02516832947731018, z=-0.14983907341957092, visibility=0.0, presence=0.0), NormalizedLandmark(x=0.3022501468658447, y=0.4381580948829651, z=-0.0613522045314312, visibility=0.0, presence=0.0), NormalizedLandmark(x=0.3117806911468506, y=0.25805771350860596, z=-0.09687653183937073, visibility=0.0, presence=0.0), NormalizedLandmark(x=0.3185969293117523, y=0.14301130175590515, z=-0.12415289133787155, visibility=0.0, presence=0.0), NormalizedLandmark(x=0.3222767114639282, y=0.044095784425735474, z=-0.1424599140882492, visibility=0.0, presence=0.0), NormalizedLandmark(x=0.22634941339492798, y=0.4751085340976715, z=-0.0726206824183464, visibility=0.0, presence=0.0), NormalizedLandmark(x=0.22136080265045166, y=0.33098459243774414, z=-0.1093016192317009, visibility=0.0, presence=0.0), NormalizedLandmark(x=0.2175643891096115, y=0.23268602788448334, z=-0.12838947772979736, visibility=0.0, presence=0.0), NormalizedLandmark(x=0.21702101826667786, y=0.1430496871471405, z=-0.13901838660240173, visibility=0.0, presence=0.0)]], hand_world_landmarks=[[Landmark(x=-0.02514662966132164, y=0.0857924371957779, z=0.0199809018522501, visibility=0.0, presence=0.0), Landmark(x=0.007442750036716461, y=0.07376415282487869, z=0.003896571695804596, visibility=0.0, presence=0.0), Landmark(x=0.033330924808979034, y=0.058761775493621826, z=-0.009176026098430157, visibility=0.0, presence=0.0), Landmark(x=0.05631018429994583, y=0.03861435875296593, z=-0.021905548870563507, visibility=0.0, presence=0.0), Landmark(x=0.07581877708435059, y=0.01773766055703163, z=-0.027684547007083893, visibility=0.0, presence=0.0), Landmark(x=0.026014672592282295, y=0.004289274103939533, z=0.0008478184463456273, visibility=0.0, presence=0.0), Landmark(x=0.035392820835113525, y=-0.023702245205640793, z=-0.007149041630327702, visibility=0.0, presence=0.0), Landmark(x=0.03974458947777748, y=-0.04363236576318741, z=-0.013488606549799442, visibility=0.0, presence=0.0), Landmark(x=0.04069547355175018, y=-0.05962790176272392, z=-0.036631129682064056, visibility=0.0, presence=0.0), Landmark(x=0.003139651380479336, y=-0.0059560080990195274, z=0.005624738987535238, visibility=0.0, presence=0.0), Landmark(x=0.010875798761844635, y=-0.04069187119603157, z=-0.003682064125314355, visibility=0.0, presence=0.0), Landmark(x=0.012356586754322052, y=-0.06227709352970123, z=-0.023808980360627174, visibility=0.0, presence=0.0), Landmark(x=0.017713764682412148, y=-0.0806458592414856, z=-0.04413290321826935, visibility=0.0, presence=0.0), Landmark(x=-0.01805678755044937, y=-0.0044358232989907265, z=-0.00028192007448524237, visibility=0.0, presence=0.0), Landmark(x=-0.015550426207482815, y=-0.03797467052936554, z=-0.009181881323456764, visibility=0.0, presence=0.0), Landmark(x=-0.01124846562743187, y=-0.057205840945243835, z=-0.024996599182486534, visibility=0.0, presence=0.0), Landmark(x=-0.005857571959495544, y=-0.0743168517947197, z=-0.04297780990600586, visibility=0.0, presence=0.0), Landmark(x=-0.04086314141750336, y=0.004910597577691078, z=-0.004336665850132704, visibility=0.0, presence=0.0), Landmark(x=-0.03795595467090607, y=-0.019494149833917618, z=-0.007132126949727535, visibility=0.0, presence=0.0), Landmark(x=-0.036469828337430954, y=-0.04152267426252365, z=-0.01824294961988926, visibility=0.0, presence=0.0), Landmark(x=-0.03330876678228378, y=-0.05901982635259628, z=-0.03322584554553032, visibility=0.0, presence=0.0)]])\n",
            "28\n",
            "GestureRecognizerResult(gestures=[[Category(index=-1, score=0.5695595741271973, display_name='', category_name='Open_Palm')]], handedness=[[Category(index=0, score=0.9818994402885437, display_name='Left', category_name='Left')]], hand_landmarks=[[NormalizedLandmark(x=0.2825314402580261, y=0.8427407741546631, z=6.394450906554994e-07, visibility=0.0, presence=0.0), NormalizedLandmark(x=0.3932912051677704, y=0.8118488788604736, z=-0.0654991939663887, visibility=0.0, presence=0.0), NormalizedLandmark(x=0.4979255199432373, y=0.7149479389190674, z=-0.09326521307229996, visibility=0.0, presence=0.0), NormalizedLandmark(x=0.5784760117530823, y=0.628089189529419, z=-0.11595077812671661, visibility=0.0, presence=0.0), NormalizedLandmark(x=0.6506873369216919, y=0.5669408440589905, z=-0.1387830227613449, visibility=0.0, presence=0.0), NormalizedLandmark(x=0.44704294204711914, y=0.47110551595687866, z=-0.053891707211732864, visibility=0.0, presence=0.0), NormalizedLandmark(x=0.48922911286354065, y=0.30951356887817383, z=-0.09193434566259384, visibility=0.0, presence=0.0), NormalizedLandmark(x=0.5121113061904907, y=0.19955411553382874, z=-0.12458111345767975, visibility=0.0, presence=0.0), NormalizedLandmark(x=0.5269546508789062, y=0.09976950287818909, z=-0.1500127613544464, visibility=0.0, presence=0.0), NormalizedLandmark(x=0.37290599942207336, y=0.4284701347351074, z=-0.051023341715335846, visibility=0.0, presence=0.0), NormalizedLandmark(x=0.4023788571357727, y=0.25167030096054077, z=-0.08476635813713074, visibility=0.0, presence=0.0), NormalizedLandmark(x=0.41783660650253296, y=0.13562873005867004, z=-0.11720161885023117, visibility=0.0, presence=0.0), NormalizedLandmark(x=0.4252142012119293, y=0.03727155923843384, z=-0.14177393913269043, visibility=0.0, presence=0.0), NormalizedLandmark(x=0.29845550656318665, y=0.42841652035713196, z=-0.05606396496295929, visibility=0.0, presence=0.0), NormalizedLandmark(x=0.31172460317611694, y=0.2555118799209595, z=-0.09028591215610504, visibility=0.0, presence=0.0), NormalizedLandmark(x=0.3190805912017822, y=0.1447860598564148, z=-0.1168646365404129, visibility=0.0, presence=0.0), NormalizedLandmark(x=0.3237975537776947, y=0.050665438175201416, z=-0.13537722826004028, visibility=0.0, presence=0.0), NormalizedLandmark(x=0.223434180021286, y=0.46304893493652344, z=-0.06770165264606476, visibility=0.0, presence=0.0), NormalizedLandmark(x=0.21779094636440277, y=0.3248206675052643, z=-0.1020287498831749, visibility=0.0, presence=0.0), NormalizedLandmark(x=0.21481607854366302, y=0.22851766645908356, z=-0.12108684331178665, visibility=0.0, presence=0.0), NormalizedLandmark(x=0.2154788374900818, y=0.1417374312877655, z=-0.13265369832515717, visibility=0.0, presence=0.0)]], hand_world_landmarks=[[Landmark(x=-0.02880251407623291, y=0.08376426249742508, z=0.020844681188464165, visibility=0.0, presence=0.0), Landmark(x=0.005393467843532562, y=0.0728880763053894, z=0.00437420466914773, visibility=0.0, presence=0.0), Landmark(x=0.03312895447015762, y=0.06036485731601715, z=-0.006819268222898245, visibility=0.0, presence=0.0), Landmark(x=0.05827561020851135, y=0.0400664396584034, z=-0.01834704913198948, visibility=0.0, presence=0.0), Landmark(x=0.07879133522510529, y=0.01969657652080059, z=-0.022876624017953873, visibility=0.0, presence=0.0), Landmark(x=0.02603619359433651, y=0.004713457077741623, z=0.0017995672533288598, visibility=0.0, presence=0.0), Landmark(x=0.03605951368808746, y=-0.023007486015558243, z=-0.005953100509941578, visibility=0.0, presence=0.0), Landmark(x=0.04150211066007614, y=-0.043534886091947556, z=-0.012676521204411983, visibility=0.0, presence=0.0), Landmark(x=0.04206957295536995, y=-0.059313464909791946, z=-0.03761105239391327, visibility=0.0, presence=0.0), Landmark(x=0.003136065322905779, y=-0.006282813847064972, z=0.0055546266958117485, visibility=0.0, presence=0.0), Landmark(x=0.012316382490098476, y=-0.039721496403217316, z=-0.004535988438874483, visibility=0.0, presence=0.0), Landmark(x=0.014286341145634651, y=-0.05989222973585129, z=-0.025984132662415504, visibility=0.0, presence=0.0), Landmark(x=0.022650614380836487, y=-0.07790924608707428, z=-0.0447138212621212, visibility=0.0, presence=0.0), Landmark(x=-0.017872555181384087, y=-0.005119894631206989, z=-0.0009688920108601451, visibility=0.0, presence=0.0), Landmark(x=-0.015008669346570969, y=-0.0369311198592186, z=-0.011100715026259422, visibility=0.0, presence=0.0), Landmark(x=-0.009459083899855614, y=-0.055817268788814545, z=-0.0281031746417284, visibility=0.0, presence=0.0), Landmark(x=-0.00456107035279274, y=-0.07149185240268707, z=-0.04661986231803894, visibility=0.0, presence=0.0), Landmark(x=-0.04063688963651657, y=0.0038818269968032837, z=-0.006130565423518419, visibility=0.0, presence=0.0), Landmark(x=-0.03828555718064308, y=-0.01864064484834671, z=-0.009613990783691406, visibility=0.0, presence=0.0), Landmark(x=-0.03645114228129387, y=-0.04200596362352371, z=-0.02086929976940155, visibility=0.0, presence=0.0), Landmark(x=-0.031620971858501434, y=-0.058188773691654205, z=-0.03726070746779442, visibility=0.0, presence=0.0)]])\n",
            "29\n",
            "GestureRecognizerResult(gestures=[[Category(index=-1, score=0.6007281541824341, display_name='', category_name='Open_Palm')]], handedness=[[Category(index=0, score=0.9296895265579224, display_name='Left', category_name='Left')]], hand_landmarks=[[NormalizedLandmark(x=0.22892872989177704, y=0.7720827460289001, z=3.8258409063018917e-07, visibility=0.0, presence=0.0), NormalizedLandmark(x=0.3533608317375183, y=0.7788535356521606, z=-0.06169097498059273, visibility=0.0, presence=0.0), NormalizedLandmark(x=0.47783297300338745, y=0.6996358036994934, z=-0.08209283649921417, visibility=0.0, presence=0.0), NormalizedLandmark(x=0.5662395358085632, y=0.618387758731842, z=-0.09798713028430939, visibility=0.0, presence=0.0), NormalizedLandmark(x=0.6332093477249146, y=0.5567418932914734, z=-0.1149555966258049, visibility=0.0, presence=0.0), NormalizedLandmark(x=0.43916693329811096, y=0.45564398169517517, z=-0.038271695375442505, visibility=0.0, presence=0.0), NormalizedLandmark(x=0.4799838662147522, y=0.2971668839454651, z=-0.07129234820604324, visibility=0.0, presence=0.0), NormalizedLandmark(x=0.501413106918335, y=0.19460180401802063, z=-0.10413746535778046, visibility=0.0, presence=0.0), NormalizedLandmark(x=0.5173677206039429, y=0.10158532857894897, z=-0.13112017512321472, visibility=0.0, presence=0.0), NormalizedLandmark(x=0.3625014126300812, y=0.4063865542411804, z=-0.03609905391931534, visibility=0.0, presence=0.0), NormalizedLandmark(x=0.3930615782737732, y=0.24111084640026093, z=-0.06559425592422485, visibility=0.0, presence=0.0), NormalizedLandmark(x=0.41200926899909973, y=0.14080509543418884, z=-0.10313420742750168, visibility=0.0, presence=0.0), NormalizedLandmark(x=0.42480745911598206, y=0.057323992252349854, z=-0.13396210968494415, visibility=0.0, presence=0.0), NormalizedLandmark(x=0.28684306144714355, y=0.3993638753890991, z=-0.041342251002788544, visibility=0.0, presence=0.0), NormalizedLandmark(x=0.30466052889823914, y=0.24562479555606842, z=-0.07278978079557419, visibility=0.0, presence=0.0), NormalizedLandmark(x=0.31936144828796387, y=0.15278172492980957, z=-0.0961526483297348, visibility=0.0, presence=0.0), NormalizedLandmark(x=0.33218157291412354, y=0.07950231432914734, z=-0.11407624185085297, visibility=0.0, presence=0.0), NormalizedLandmark(x=0.21038879454135895, y=0.4257902503013611, z=-0.05329115316271782, visibility=0.0, presence=0.0), NormalizedLandmark(x=0.2116200476884842, y=0.29649218916893005, z=-0.08512222021818161, visibility=0.0, presence=0.0), NormalizedLandmark(x=0.21678049862384796, y=0.2091321349143982, z=-0.09831034392118454, visibility=0.0, presence=0.0), NormalizedLandmark(x=0.22636795043945312, y=0.13627633452415466, z=-0.10690146684646606, visibility=0.0, presence=0.0)]], hand_world_landmarks=[[Landmark(x=-0.03744148463010788, y=0.06678187847137451, z=0.02031385339796543, visibility=0.0, presence=0.0), Landmark(x=-0.0017669294029474258, y=0.06440851092338562, z=0.008066956885159016, visibility=0.0, presence=0.0), Landmark(x=0.028198519721627235, y=0.056666579097509384, z=-0.000465219171019271, visibility=0.0, presence=0.0), Landmark(x=0.05714494735002518, y=0.041366059333086014, z=-0.008354970254004002, visibility=0.0, presence=0.0), Landmark(x=0.07810947299003601, y=0.02463710866868496, z=-0.010002804920077324, visibility=0.0, presence=0.0), Landmark(x=0.023001493886113167, y=0.005609333515167236, z=0.002305474365130067, visibility=0.0, presence=0.0), Landmark(x=0.03469737246632576, y=-0.017539871856570244, z=-0.0034620410297065973, visibility=0.0, presence=0.0), Landmark(x=0.042954910546541214, y=-0.03921498730778694, z=-0.008545990101993084, visibility=0.0, presence=0.0), Landmark(x=0.0459347665309906, y=-0.0545012392103672, z=-0.03595781326293945, visibility=0.0, presence=0.0), Landmark(x=0.003287991974502802, y=-0.005897100083529949, z=0.00585957383736968, visibility=0.0, presence=0.0), Landmark(x=0.014819294214248657, y=-0.03390307351946831, z=-0.004588466137647629, visibility=0.0, presence=0.0), Landmark(x=0.020804882049560547, y=-0.05338302254676819, z=-0.024073584005236626, visibility=0.0, presence=0.0), Landmark(x=0.029943613335490227, y=-0.0669240802526474, z=-0.043832551687955856, visibility=0.0, presence=0.0), Landmark(x=-0.014731299132108688, y=-0.005589737556874752, z=-0.0013410141691565514, visibility=0.0, presence=0.0), Landmark(x=-0.008809213526546955, y=-0.03524329885840416, z=-0.013110527768731117, visibility=0.0, presence=0.0), Landmark(x=-0.002679077908396721, y=-0.04676983505487442, z=-0.026669157668948174, visibility=0.0, presence=0.0), Landmark(x=0.005175603553652763, y=-0.060157909989356995, z=-0.04775362089276314, visibility=0.0, presence=0.0), Landmark(x=-0.03773805871605873, y=-0.0017056874930858612, z=-0.0076038045808672905, visibility=0.0, presence=0.0), Landmark(x=-0.035166893154382706, y=-0.019194096326828003, z=-0.012011502869427204, visibility=0.0, presence=0.0), Landmark(x=-0.030340030789375305, y=-0.04042794555425644, z=-0.021834351122379303, visibility=0.0, presence=0.0), Landmark(x=-0.021354395896196365, y=-0.054579369723796844, z=-0.032502420246601105, visibility=0.0, presence=0.0)]])\n",
            "30\n",
            "GestureRecognizerResult(gestures=[[Category(index=-1, score=0.5865686535835266, display_name='', category_name='Open_Palm')]], handedness=[[Category(index=0, score=0.9711226224899292, display_name='Left', category_name='Left')]], hand_landmarks=[[NormalizedLandmark(x=0.29295065999031067, y=0.7898694276809692, z=6.42506051917735e-07, visibility=0.0, presence=0.0), NormalizedLandmark(x=0.39231744408607483, y=0.7658935785293579, z=-0.06610698997974396, visibility=0.0, presence=0.0), NormalizedLandmark(x=0.4862613081932068, y=0.6764795780181885, z=-0.09302059561014175, visibility=0.0, presence=0.0), NormalizedLandmark(x=0.5540803074836731, y=0.5918647646903992, z=-0.11381060630083084, visibility=0.0, presence=0.0), NormalizedLandmark(x=0.6177812218666077, y=0.5310652256011963, z=-0.13470302522182465, visibility=0.0, presence=0.0), NormalizedLandmark(x=0.44338056445121765, y=0.4461154639720917, z=-0.0524553507566452, visibility=0.0, presence=0.0), NormalizedLandmark(x=0.48098641633987427, y=0.2960672974586487, z=-0.08523138612508774, visibility=0.0, presence=0.0), NormalizedLandmark(x=0.503115177154541, y=0.19675494730472565, z=-0.11561503261327744, visibility=0.0, presence=0.0), NormalizedLandmark(x=0.5187370777130127, y=0.10639503598213196, z=-0.14094942808151245, visibility=0.0, presence=0.0), NormalizedLandmark(x=0.3740108907222748, y=0.40576300024986267, z=-0.0483817420899868, visibility=0.0, presence=0.0), NormalizedLandmark(x=0.40189942717552185, y=0.24315138161182404, z=-0.0778338685631752, visibility=0.0, presence=0.0), NormalizedLandmark(x=0.41824081540107727, y=0.13862934708595276, z=-0.11023810505867004, visibility=0.0, presence=0.0), NormalizedLandmark(x=0.4282905161380768, y=0.04900488257408142, z=-0.13642649352550507, visibility=0.0, presence=0.0), NormalizedLandmark(x=0.3037683665752411, y=0.40532949566841125, z=-0.052089907228946686, visibility=0.0, presence=0.0), NormalizedLandmark(x=0.3188355565071106, y=0.24202296137809753, z=-0.0858798548579216, visibility=0.0, presence=0.0), NormalizedLandmark(x=0.3284861147403717, y=0.14032772183418274, z=-0.11579354852437973, visibility=0.0, presence=0.0), NormalizedLandmark(x=0.33533018827438354, y=0.05215096473693848, z=-0.13752244412899017, visibility=0.0, presence=0.0), NormalizedLandmark(x=0.23159359395503998, y=0.4344254434108734, z=-0.06194201856851578, visibility=0.0, presence=0.0), NormalizedLandmark(x=0.22544404864311218, y=0.29743146896362305, z=-0.09952522814273834, visibility=0.0, presence=0.0), NormalizedLandmark(x=0.22034306824207306, y=0.20450502634048462, z=-0.12317889928817749, visibility=0.0, presence=0.0), NormalizedLandmark(x=0.21941816806793213, y=0.11778154969215393, z=-0.13866376876831055, visibility=0.0, presence=0.0)]], hand_world_landmarks=[[Landmark(x=-0.029435258358716965, y=0.08374451100826263, z=0.030627358704805374, visibility=0.0, presence=0.0), Landmark(x=0.0031552277505397797, y=0.07287732511758804, z=0.01330359186977148, visibility=0.0, presence=0.0), Landmark(x=0.03049662336707115, y=0.060773082077503204, z=-0.002756782341748476, visibility=0.0, presence=0.0), Landmark(x=0.05692822113633156, y=0.03994175046682358, z=-0.018684683367609978, visibility=0.0, presence=0.0), Landmark(x=0.07766785472631454, y=0.021359197795391083, z=-0.02847762405872345, visibility=0.0, presence=0.0), Landmark(x=0.02631545066833496, y=0.004004034213721752, z=0.0007292876834981143, visibility=0.0, presence=0.0), Landmark(x=0.037501201033592224, y=-0.02293599769473076, z=-0.008021194487810135, visibility=0.0, presence=0.0), Landmark(x=0.04268990084528923, y=-0.04211863875389099, z=-0.015943296253681183, visibility=0.0, presence=0.0), Landmark(x=0.04418260604143143, y=-0.057379189878702164, z=-0.04147949814796448, visibility=0.0, presence=0.0), Landmark(x=0.0036089045461267233, y=-0.005897569470107555, z=0.004964557010680437, visibility=0.0, presence=0.0), Landmark(x=0.01494580414146185, y=-0.0386853963136673, z=-0.006321364548057318, visibility=0.0, presence=0.0), Landmark(x=0.01772846095263958, y=-0.05892285704612732, z=-0.02666381746530533, visibility=0.0, presence=0.0), Landmark(x=0.024532217532396317, y=-0.07504279911518097, z=-0.04978790134191513, visibility=0.0, presence=0.0), Landmark(x=-0.018182385712862015, y=-0.0048776050098240376, z=-0.0007655699737370014, visibility=0.0, presence=0.0), Landmark(x=-0.013304904103279114, y=-0.037612564861774445, z=-0.009119590744376183, visibility=0.0, presence=0.0), Landmark(x=-0.00702078640460968, y=-0.05589928850531578, z=-0.02652219496667385, visibility=0.0, presence=0.0), Landmark(x=-0.0014042183756828308, y=-0.07217144221067429, z=-0.047878559678792953, visibility=0.0, presence=0.0), Landmark(x=-0.041437938809394836, y=0.004636598750948906, z=-0.003820145735517144, visibility=0.0, presence=0.0), Landmark(x=-0.037978798151016235, y=-0.02093476615846157, z=-0.0052867005579173565, visibility=0.0, presence=0.0), Landmark(x=-0.03853115066885948, y=-0.045045722275972366, z=-0.014380471780896187, visibility=0.0, presence=0.0), Landmark(x=-0.033703893423080444, y=-0.06403549760580063, z=-0.030723370611667633, visibility=0.0, presence=0.0)]])\n",
            "31\n"
          ]
        }
      ],
      "source": [
        "# STEP 1: Import the necessary modules.\n",
        "import math\n",
        "import cv2\n",
        "\n",
        "import mediapipe as mp\n",
        "from mediapipe.tasks import python\n",
        "from mediapipe.tasks.python import vision\n",
        "from mediapipe.python import packet_creator\n",
        "from mediapipe.python import packet_getter\n",
        "\n",
        "from mediapipe.python._framework_bindings import calculator_graph\n",
        "from mediapipe.python._framework_bindings import image\n",
        "from mediapipe.python._framework_bindings import image_frame\n",
        "from mediapipe.python._framework_bindings import packet\n",
        "\n",
        "CalculatorGraph = calculator_graph.CalculatorGraph\n",
        "Image = image.Image\n",
        "ImageFormat = image_frame.ImageFormat\n",
        "ImageFrame = image_frame.ImageFrame\n",
        "\n",
        "\n",
        "# STEP 2: Create an GestureRecognizer object.\n",
        "base_options = python.BaseOptions(model_asset_path='gesture_recognizer.task')\n",
        "options = vision.GestureRecognizerOptions(base_options=base_options)\n",
        "recognizer = vision.GestureRecognizer.create_from_options(options)\n",
        "\n",
        "images = []\n",
        "results = []\n",
        "cap = cv2.VideoCapture('TRAIN_300.mp4')\n",
        "fps = cv2.CAP_PROP_FPS\n",
        "\n",
        "index = 0\n",
        "ret = True\n",
        "while ret:\n",
        "  index = index+1\n",
        "  print(index)\n",
        "  frame_timestamp_ms = + 1000/fps\n",
        "  \n",
        "  ret, img = cap.read() # read one frame from the 'capture' object; img is (H, W, C)\n",
        "  if ret:\n",
        "    #image_frame_packet = packet_creator.create_image_frame(        ImageFrame(image_format=ImageFormat.SRGB, data=img))\n",
        "    recognition_result = recognizer.recognize( mp.Image(image_format=ImageFormat.SRGB, data=img))\n",
        "    print(recognition_result)\n",
        "\n",
        "    # STEP 5: Process the result. In this case, visualize it.\n",
        "    #images.append(image)\n",
        "    #top_gesture = recognition_result.gestures[0][0]\n",
        "    #hand_landmarks = recognition_result.hand_landmarks\n",
        "    #results.append((top_gesture, hand_landmarks))\n",
        "\n",
        "#  display_batch_of_images_with_gestures_and_hand_landmarks(images, results)"
      ]
    },
    {
      "cell_type": "code",
      "execution_count": 11,
      "metadata": {},
      "outputs": [],
      "source": [
        "#https://developers.google.com/mediapipe/solutions/vision/gesture_recognizer/python#video\n",
        "# STEP 1: Import the necessary modules.\n",
        "import math\n",
        "import mediapipe as mp\n",
        "from mediapipe.tasks import python\n",
        "from mediapipe.tasks.python import vision\n",
        "import PIL.Image\n",
        "\n",
        "\n",
        "from mediapipe.python._framework_bindings import image_frame\n",
        "\n",
        "ImageFormat = image_frame.ImageFormat\n",
        "ImageFrame = image_frame.ImageFrame\n",
        "\n",
        "\n"
      ]
    },
    {
      "cell_type": "code",
      "execution_count": 13,
      "metadata": {},
      "outputs": [
        {
          "name": "stdout",
          "output_type": "stream",
          "text": [
            "[[[178 207   8]\n",
            "  [ 41 117  92]\n",
            "  [106 215 243]\n",
            "  ...\n",
            "  [ 87  50 237]\n",
            "  [ 79 168  71]\n",
            "  [149 188 140]]\n",
            "\n",
            " [[129  37  58]\n",
            "  [ 87 140  79]\n",
            "  [147  76  15]\n",
            "  ...\n",
            "  [119 232  98]\n",
            "  [134 148 165]\n",
            "  [137 232 240]]\n",
            "\n",
            " [[163  16  36]\n",
            "  [ 37 174 188]\n",
            "  [209  45 147]\n",
            "  ...\n",
            "  [106  65 250]\n",
            "  [253 210 138]\n",
            "  [ 53 121  21]]\n",
            "\n",
            " ...\n",
            "\n",
            " [[182 160 191]\n",
            "  [ 36  56   1]\n",
            "  [117  92 146]\n",
            "  ...\n",
            "  [ 83 114  33]\n",
            "  [133  16 197]\n",
            "  [ 68  25  42]]\n",
            "\n",
            " [[162  14 172]\n",
            "  [ 67  65  65]\n",
            "  [ 17 240  94]\n",
            "  ...\n",
            "  [ 78  30 176]\n",
            "  [111 243 169]\n",
            "  [131 121 221]]\n",
            "\n",
            " [[207 238 250]\n",
            "  [193  33 216]\n",
            "  [194  18 119]\n",
            "  ...\n",
            "  [ 64  66 244]\n",
            "  [149 176 207]\n",
            "  [236 139  22]]]\n"
          ]
        }
      ],
      "source": [
        "import numpy as np\n",
        "\n",
        "w, h, offset = 80, 40, 10\n",
        "mat = np.random.randint(2**8 - 1, size=(h, w, 3), dtype=np.uint8)\n",
        "print(mat)"
      ]
    },
    {
      "cell_type": "code",
      "execution_count": 10,
      "metadata": {
        "id": "_JVO3rvPD4RN"
      },
      "outputs": [
        {
          "name": "stderr",
          "output_type": "stream",
          "text": [
            "W20230203 01:16:27.895510  7947 gesture_recognizer_graph.cc:121] Hand Gesture Recognizer contains CPU only ops. Sets HandGestureRecognizerGraph acceleartion to Xnnpack.\n",
            "I20230203 01:16:27.897846  7947 hand_gesture_recognizer_graph.cc:249] Custom gesture classifier is not defined.\n"
          ]
        },
        {
          "ename": "NameError",
          "evalue": "name 'numpy_frame_from_opencv' is not defined",
          "output_type": "error",
          "traceback": [
            "\u001b[0;31m---------------------------------------------------------------------------\u001b[0m",
            "\u001b[0;31mNameError\u001b[0m                                 Traceback (most recent call last)",
            "Cell \u001b[0;32mIn[10], line 25\u001b[0m\n\u001b[1;32m     14\u001b[0m recognizer \u001b[39m=\u001b[39m vision\u001b[39m.\u001b[39mGestureRecognizer\u001b[39m.\u001b[39mcreate_from_options(options)\n\u001b[1;32m     17\u001b[0m \u001b[39m# Use OpenCV’s VideoCapture to load the input video.\u001b[39;00m\n\u001b[1;32m     18\u001b[0m \n\u001b[1;32m     19\u001b[0m \u001b[39m# Load the frame rate of the video using OpenCV’s CV_CAP_PROP_FPS\u001b[39;00m\n\u001b[0;32m   (...)\u001b[0m\n\u001b[1;32m     23\u001b[0m \n\u001b[1;32m     24\u001b[0m \u001b[39m# Convert the frame received from OpenCV to a MediaPipe’s Image object.\u001b[39;00m\n\u001b[0;32m---> 25\u001b[0m mp_image \u001b[39m=\u001b[39m mp\u001b[39m.\u001b[39mImage(\u001b[39mformat\u001b[39m\u001b[39m=\u001b[39mImageFormat\u001b[39m.\u001b[39mSRGB, data\u001b[39m=\u001b[39mnumpy_frame_from_opencv)\n\u001b[1;32m     27\u001b[0m \u001b[39m# Perform gesture recognition on the provided single image.\u001b[39;00m\n\u001b[1;32m     28\u001b[0m \u001b[39m# The gesture recognizer must be created with the video mode.\u001b[39;00m\n\u001b[1;32m     29\u001b[0m gesture_recognition_result \u001b[39m=\u001b[39m recognizer\u001b[39m.\u001b[39mrecognize_for_video(mp_image, frame_timestamp_ms)\n",
            "\u001b[0;31mNameError\u001b[0m: name 'numpy_frame_from_opencv' is not defined"
          ]
        }
      ],
      "source": [
        "VisionRunningMode = mp.tasks.vision.RunningMode\n",
        "# STEP 2: Create an GestureRecognizer object.\n",
        "base_options = python.BaseOptions(model_asset_path='gesture_recognizer.task')\n",
        "options = vision.GestureRecognizerOptions(base_options=base_options, running_mode=VisionRunningMode.VIDEO)\n",
        "recognizer = vision.GestureRecognizer.create_from_options(options)\n",
        "\n",
        " \n",
        "# Use OpenCV’s VideoCapture to load the input video.\n",
        "\n",
        "# Load the frame rate of the video using OpenCV’s CV_CAP_PROP_FPS\n",
        "# You’ll need it to calculate the timestamp for each frame.\n",
        "\n",
        "# Loop through each frame in the video using VideoCapture#read()\n",
        "\n",
        "# Convert the frame received from OpenCV to a MediaPipe’s Image object.\n",
        "mp_image = mp.Image(format=ImageFormat.SRGB, data=numpy_frame_from_opencv)\n",
        "\n",
        "# Perform gesture recognition on the provided single image.\n",
        "# The gesture recognizer must be created with the video mode.\n",
        "gesture_recognition_result = recognizer.recognize_for_video(mp_image, frame_timestamp_ms)\n"
      ]
    },
    {
      "cell_type": "code",
      "execution_count": null,
      "metadata": {},
      "outputs": [],
      "source": [
        "\n",
        "\n",
        "images = []\n",
        "results = []\n",
        "for image_file_name in IMAGE_FILENAMES:\n",
        "  # STEP 3: Load the input image.\n",
        "  image = mp.Image.create_from_file(image_file_name)\n",
        "\n",
        "  # STEP 4: Recognize gestures in the input image.\n",
        "  recognition_result = recognizer.recognize(image)\n",
        "\n",
        "  # STEP 5: Process the result. In this case, visualize it.\n",
        "  images.append(image)\n",
        "  top_gesture = recognition_result.gestures[0][0]\n",
        "  hand_landmarks = recognition_result.hand_landmarks\n",
        "  results.append((top_gesture, hand_landmarks))\n",
        "\n",
        "display_batch_of_images_with_gestures_and_hand_landmarks(images, results)"
      ]
    },
    {
      "cell_type": "code",
      "execution_count": null,
      "metadata": {},
      "outputs": [],
      "source": []
    }
  ],
  "metadata": {
    "colab": {
      "provenance": []
    },
    "kernelspec": {
      "display_name": "p2023Jan",
      "language": "python",
      "name": "python3"
    },
    "language_info": {
      "codemirror_mode": {
        "name": "ipython",
        "version": 3
      },
      "file_extension": ".py",
      "mimetype": "text/x-python",
      "name": "python",
      "nbconvert_exporter": "python",
      "pygments_lexer": "ipython3",
      "version": "3.10.6"
    },
    "vscode": {
      "interpreter": {
        "hash": "3e2aa766ae7d0e61af1bfc04b894080aa4be5333e5525c8350788f1140453135"
      }
    }
  },
  "nbformat": 4,
  "nbformat_minor": 0
}
