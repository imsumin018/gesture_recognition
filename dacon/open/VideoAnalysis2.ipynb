{
 "cells": [
  {
   "cell_type": "code",
   "execution_count": 1,
   "metadata": {},
   "outputs": [],
   "source": [
    "from matplotlib import pyplot as plt\n",
    "import mediapipe as mp\n",
    "from mediapipe.framework.formats import landmark_pb2\n",
    "import cv2\n",
    "import os\n",
    "plt.rcParams.update({\n",
    "    'axes.spines.top': False,\n",
    "    'axes.spines.right': False,\n",
    "    'axes.spines.left': False,\n",
    "    'axes.spines.bottom': False,\n",
    "    'xtick.labelbottom': False,\n",
    "    'xtick.bottom': False,\n",
    "    'ytick.labelleft': False,\n",
    "    'ytick.left': False,\n",
    "    'xtick.labeltop': False,\n",
    "    'xtick.top': False,\n",
    "    'ytick.labelright': False,\n",
    "    'ytick.right': False\n",
    "})\n",
    "\n",
    "mp_hands = mp.solutions.hands\n",
    "mp_drawing = mp.solutions.drawing_utils\n",
    "mp_drawing_styles = mp.solutions.drawing_styles\n",
    "\n",
    "\n",
    "def display_one_image(image, title, subplot, titlesize=16):\n",
    "    \"\"\"Displays one image along with the predicted category name and score.\"\"\"\n",
    "    plt.subplot(*subplot)\n",
    "    plt.imshow(image)\n",
    "    if len(title) > 0:\n",
    "        plt.title(title, fontsize=int(titlesize), color='black', fontdict={'verticalalignment':'center'}, pad=int(titlesize/1.5))\n",
    "    return (subplot[0], subplot[1], subplot[2]+1)\n",
    "\n",
    "\n",
    "def display_batch_of_images_with_gestures_and_hand_landmarks(images, results):\n",
    "    \"\"\"Displays a batch of images with the gesture category and its score along with the hand landmarks.\"\"\"\n",
    "    # Images and labels.\n",
    "    images = [image.numpy_view() for image in images]\n",
    "    gestures = [top_gesture for (top_gesture, _) in results]\n",
    "    multi_hand_landmarks_list = [multi_hand_landmarks for (_, multi_hand_landmarks) in results]\n",
    "\n",
    "    # Auto-squaring: this will drop data that does not fit into square or square-ish rectangle.\n",
    "    rows = int(math.sqrt(len(images)))\n",
    "    cols = len(images) // rows\n",
    "\n",
    "    # Size and spacing.\n",
    "    FIGSIZE = 13.0\n",
    "    SPACING = 0.1\n",
    "    subplot=(rows,cols, 1)\n",
    "    if rows < cols:\n",
    "        plt.figure(figsize=(FIGSIZE,FIGSIZE/cols*rows))\n",
    "    else:\n",
    "        plt.figure(figsize=(FIGSIZE/rows*cols,FIGSIZE))\n",
    "\n",
    "    # Display gestures and hand landmarks.\n",
    "    for i, (image, gestures) in enumerate(zip(images[:rows*cols], gestures[:rows*cols])):\n",
    "        title = f\"{gestures.category_name} ({gestures.score:.2f})\"\n",
    "        dynamic_titlesize = FIGSIZE*SPACING/max(rows,cols) * 40 + 3\n",
    "        annotated_image = image.copy()\n",
    "\n",
    "        for hand_landmarks in multi_hand_landmarks_list[i]:\n",
    "          hand_landmarks_proto = landmark_pb2.NormalizedLandmarkList()\n",
    "          hand_landmarks_proto.landmark.extend([            landmark_pb2.NormalizedLandmark(x=landmark.x, y=landmark.y, z=landmark.z) for landmark in hand_landmarks          ])\n",
    "\n",
    "          mp_drawing.draw_landmarks(\n",
    "            annotated_image,\n",
    "            hand_landmarks_proto,\n",
    "            mp_hands.HAND_CONNECTIONS,\n",
    "            mp_drawing_styles.get_default_hand_landmarks_style(),\n",
    "            mp_drawing_styles.get_default_hand_connections_style())\n",
    "\n",
    "        subplot = display_one_image(annotated_image, title, subplot, titlesize=dynamic_titlesize)\n",
    "\n",
    "    # Layout.\n",
    "    plt.tight_layout()\n",
    "    plt.subplots_adjust(wspace=SPACING, hspace=SPACING)\n",
    "    plt.show()\n"
   ]
  },
  {
   "cell_type": "code",
   "execution_count": 2,
   "metadata": {},
   "outputs": [],
   "source": [
    "import matplotlib.pyplot as plt\n",
    "\n",
    "plt.rcParams[\"figure.figsize\"] = [7.50, 3.50]\n",
    "plt.rcParams[\"figure.autolayout\"] = True\n",
    "\n",
    "def check_again(video_file_path):\n",
    "  \n",
    "  mp_drawing = mp.solutions.drawing_utils\n",
    "  mp_drawing_styles = mp.solutions.drawing_styles\n",
    "  mp_hands = mp.solutions.hands\n",
    "  cap = cv2.VideoCapture(video_file_path)\n",
    "  arr_res_finger_first = [] #4\n",
    "  arr_res_finger_fourth = [] #5,6\n",
    "  arr_res_x = []\n",
    "  with mp_hands.Hands(\n",
    "    model_complexity=0,\n",
    "    min_detection_confidence=0.5,\n",
    "    min_tracking_confidence=0.5) as hands:\n",
    "    while cap.isOpened():\n",
    "      success, image = cap.read()\n",
    "      if not success:\n",
    "        #print(\"Ignoring empty camera frame.\") \n",
    "        break;\n",
    " \n",
    "      image.flags.writeable = False\n",
    "      image = cv2.cvtColor(image, cv2.COLOR_BGR2RGB)\n",
    "      results = hands.process(image)\n",
    "\n",
    "      # Draw the hand annotations on the image.\n",
    "      image.flags.writeable = True\n",
    "      image = cv2.cvtColor(image, cv2.COLOR_RGB2BGR)\n",
    "      enum_finger_thumb = 4\n",
    "      enum_finger_second= 6\n",
    "      ##cv2.imshow('MediaPipe Hands', cv2.flip(image, 1))\n",
    "      ##if cv2.waitKey(5) & 0xFF == 27:\n",
    "      ##  break\n",
    "      try:\n",
    "        arr_res_finger_first.append(results.multi_hand_landmarks[0].landmark[enum_finger_thumb].z)\n",
    "        arr_res_finger_fourth.append(results.multi_hand_landmarks[0].landmark[enum_finger_second].z)\n",
    "        arr_res_x.append(results.multi_hand_landmarks[0].landmark[enum_finger_second].x)\n",
    "      except TypeError:#None        \n",
    "        continue\n",
    "    cap.release()\n",
    "    cv2.destroyAllWindows()\n",
    "  #print(arr_res_finger_first)\n",
    "  #print(arr_res_finger_fourth)\n",
    "  #print(arr_res_x)\n",
    "  \n",
    "  i = 0\n",
    "  multivariate = 0\n",
    "  cnt_thumbs_up = 0\n",
    "  cnt_thumbs_down = 0\n",
    "  \n",
    "  for a in arr_res_finger_first:\n",
    "    #print(i)\n",
    "    multivariate += arr_res_finger_fourth[i] - arr_res_finger_first[i]\n",
    "    if arr_res_finger_first[i] > arr_res_finger_fourth[i] :\n",
    "      cnt_thumbs_up += 1\n",
    "    else:\n",
    "      cnt_thumbs_down +=1\n",
    "    i += 1\n",
    "  \n",
    "  #print(multivariate)\n",
    "  #print(cnt_thumbs_up, cnt_thumbs_down)\n",
    "  \n",
    "      \n",
    "  if multivariate < -0.5 : #2 or 3\n",
    "    max_index = arr_res_x.index(max(arr_res_x))\n",
    "    min_index = arr_res_x.index(min(arr_res_x))\n",
    "    \n",
    "    if max_index-min_index < 0 : res = 3\n",
    "    else: res = 2\n",
    "  else : \n",
    "    if cnt_thumbs_up > cnt_thumbs_down+17:\n",
    "      res = 0\n",
    "    else : \n",
    "      res = 1\n",
    "    \n",
    "  \n",
    "  #plt.title(\"Line graph\")\n",
    "  #plt.plot(arr_res_finger_first, color=\"blue\")\n",
    "  #plt.plot(arr_res_finger_fourth, color=\"red\")\n",
    "  #plt.show()\n",
    "  \n",
    "  return res\n",
    " "
   ]
  },
  {
   "cell_type": "code",
   "execution_count": 3,
   "metadata": {},
   "outputs": [],
   "source": [
    "\n",
    "def do_process(video_file_path):  \n",
    "  import math\n",
    "  import cv2\n",
    "\n",
    "  import mediapipe as mp\n",
    "  from mediapipe.tasks import python\n",
    "  from mediapipe.tasks.python import vision\n",
    "  from mediapipe.python import packet_creator\n",
    "  from mediapipe.python import packet_getter\n",
    "\n",
    "  from mediapipe.python._framework_bindings import calculator_graph\n",
    "  from mediapipe.python._framework_bindings import image\n",
    "  from mediapipe.python._framework_bindings import image_frame\n",
    "  from mediapipe.python._framework_bindings import packet\n",
    "\n",
    "  CalculatorGraph = calculator_graph.CalculatorGraph\n",
    "  Image = image.Image\n",
    "  ImageFormat = image_frame.ImageFormat\n",
    "  ImageFrame = image_frame.ImageFrame\n",
    "\n",
    "  # STEP 2: Create an GestureRecognizer object.\n",
    "  VisionRunningMode = mp.tasks.vision.RunningMode\n",
    "  base_options = python.BaseOptions(model_asset_path='/Users/s/dacon/gesture_recognizer.task')\n",
    "  options = vision.GestureRecognizerOptions(base_options=base_options, running_mode=VisionRunningMode.VIDEO )\n",
    "  recognizer = vision.GestureRecognizer.create_from_options(options)\n",
    "  \n",
    "  results = []\n",
    "  \n",
    "  cap = cv2.VideoCapture(video_file_path)\n",
    "  fps = cv2.CAP_PROP_FPS\n",
    "  calc_timestamps = [0.0]\n",
    "\n",
    "  res_landmark = []\n",
    "  res_not_found_count = 0\n",
    "  \n",
    "  ret = True\n",
    "  while ret:\n",
    "    ret, img = cap.read() # read one frame from the 'capture' object; img is (H, W, C)\n",
    "    if ret:      \n",
    "      ts = cap.get(cv2.CAP_PROP_POS_MSEC)      \n",
    "      cts = calc_timestamps[-1] + 1000/fps\n",
    "      #print(abs(ts-cts))\n",
    "      recognition_result =recognizer.recognize_for_video( mp.Image(image_format=ImageFormat.SRGB, data=img), int(ts))\n",
    "      try : \n",
    "        top_gesture = recognition_result.gestures[0][0]        \n",
    "        hand_landmarks = top_gesture.category_name\n",
    "        #print(hand_landmarks)\n",
    "        results.append(top_gesture)\n",
    "        res_landmark.append(hand_landmarks)\n",
    "      except IndexError: \n",
    "        res_landmark.append('-')\n",
    "        res_not_found_count += 1\n",
    "        continue\n",
    "      \n",
    "  cap.release()\n",
    "  cv2.destroyAllWindows()\n",
    "  \n",
    "  res = -1\n",
    "  if res_landmark.count('Open_Palm') > 5 :\n",
    "    res = 4 \n",
    "  elif res_landmark.count('Thumb_Down') > 5 : \n",
    "    res = 1\n",
    "  elif res_landmark.count('Thumb_Up') > 5 or res_landmark.count('Pointing_Up') >5 :\n",
    "    res = 0 \n",
    "  else :\n",
    "    res = check_again(video_file_path)\n",
    "  return res\n"
   ]
  },
  {
   "cell_type": "code",
   "execution_count": 4,
   "metadata": {},
   "outputs": [
    {
     "name": "stdout",
     "output_type": "stream",
     "text": [
      "./test/TEST_000.mp4\n"
     ]
    },
    {
     "name": "stderr",
     "output_type": "stream",
     "text": [
      "WARNING: Logging before InitGoogleLogging() is written to STDERR\n",
      "W20230206 03:23:54.010386 308553216 gesture_recognizer_graph.cc:121] Hand Gesture Recognizer contains CPU only ops. Sets HandGestureRecognizerGraph acceleartion to Xnnpack.\n",
      "I20230206 03:23:54.011653 308553216 hand_gesture_recognizer_graph.cc:249] Custom gesture classifier is not defined.\n",
      "INFO: Created TensorFlow Lite XNNPACK delegate for CPU.\n"
     ]
    },
    {
     "name": "stdout",
     "output_type": "stream",
     "text": [
      "./test/TEST_001.mp4\n"
     ]
    },
    {
     "name": "stderr",
     "output_type": "stream",
     "text": [
      "W20230206 03:23:55.528183 308553216 gesture_recognizer_graph.cc:121] Hand Gesture Recognizer contains CPU only ops. Sets HandGestureRecognizerGraph acceleartion to Xnnpack.\n",
      "I20230206 03:23:55.529347 308553216 hand_gesture_recognizer_graph.cc:249] Custom gesture classifier is not defined.\n"
     ]
    },
    {
     "name": "stdout",
     "output_type": "stream",
     "text": [
      "./test/TEST_002.mp4\n"
     ]
    },
    {
     "name": "stderr",
     "output_type": "stream",
     "text": [
      "W20230206 03:23:57.067791 308553216 gesture_recognizer_graph.cc:121] Hand Gesture Recognizer contains CPU only ops. Sets HandGestureRecognizerGraph acceleartion to Xnnpack.\n",
      "I20230206 03:23:57.069145 308553216 hand_gesture_recognizer_graph.cc:249] Custom gesture classifier is not defined.\n"
     ]
    },
    {
     "name": "stdout",
     "output_type": "stream",
     "text": [
      "./test/TEST_003.mp4\n"
     ]
    },
    {
     "name": "stderr",
     "output_type": "stream",
     "text": [
      "W20230206 03:23:58.594148 308553216 gesture_recognizer_graph.cc:121] Hand Gesture Recognizer contains CPU only ops. Sets HandGestureRecognizerGraph acceleartion to Xnnpack.\n",
      "I20230206 03:23:58.595276 308553216 hand_gesture_recognizer_graph.cc:249] Custom gesture classifier is not defined.\n"
     ]
    },
    {
     "name": "stdout",
     "output_type": "stream",
     "text": [
      "./test/TEST_004.mp4\n"
     ]
    },
    {
     "name": "stderr",
     "output_type": "stream",
     "text": [
      "W20230206 03:24:00.000398 308553216 gesture_recognizer_graph.cc:121] Hand Gesture Recognizer contains CPU only ops. Sets HandGestureRecognizerGraph acceleartion to Xnnpack.\n",
      "I20230206 03:24:00.001667 308553216 hand_gesture_recognizer_graph.cc:249] Custom gesture classifier is not defined.\n"
     ]
    },
    {
     "name": "stdout",
     "output_type": "stream",
     "text": [
      "./test/TEST_005.mp4\n"
     ]
    },
    {
     "name": "stderr",
     "output_type": "stream",
     "text": [
      "W20230206 03:24:00.776371 308553216 gesture_recognizer_graph.cc:121] Hand Gesture Recognizer contains CPU only ops. Sets HandGestureRecognizerGraph acceleartion to Xnnpack.\n",
      "I20230206 03:24:00.777653 308553216 hand_gesture_recognizer_graph.cc:249] Custom gesture classifier is not defined.\n"
     ]
    },
    {
     "name": "stdout",
     "output_type": "stream",
     "text": [
      "./test/TEST_006.mp4\n"
     ]
    },
    {
     "name": "stderr",
     "output_type": "stream",
     "text": [
      "W20230206 03:24:02.326977 308553216 gesture_recognizer_graph.cc:121] Hand Gesture Recognizer contains CPU only ops. Sets HandGestureRecognizerGraph acceleartion to Xnnpack.\n",
      "I20230206 03:24:02.328241 308553216 hand_gesture_recognizer_graph.cc:249] Custom gesture classifier is not defined.\n"
     ]
    },
    {
     "name": "stdout",
     "output_type": "stream",
     "text": [
      "./test/TEST_007.mp4\n"
     ]
    },
    {
     "name": "stderr",
     "output_type": "stream",
     "text": [
      "W20230206 03:24:03.107563 308553216 gesture_recognizer_graph.cc:121] Hand Gesture Recognizer contains CPU only ops. Sets HandGestureRecognizerGraph acceleartion to Xnnpack.\n",
      "I20230206 03:24:03.108790 308553216 hand_gesture_recognizer_graph.cc:249] Custom gesture classifier is not defined.\n"
     ]
    },
    {
     "name": "stdout",
     "output_type": "stream",
     "text": [
      "./test/TEST_008.mp4\n"
     ]
    },
    {
     "name": "stderr",
     "output_type": "stream",
     "text": [
      "W20230206 03:24:04.655997 308553216 gesture_recognizer_graph.cc:121] Hand Gesture Recognizer contains CPU only ops. Sets HandGestureRecognizerGraph acceleartion to Xnnpack.\n",
      "I20230206 03:24:04.657224 308553216 hand_gesture_recognizer_graph.cc:249] Custom gesture classifier is not defined.\n"
     ]
    },
    {
     "name": "stdout",
     "output_type": "stream",
     "text": [
      "./test/TEST_009.mp4\n"
     ]
    },
    {
     "name": "stderr",
     "output_type": "stream",
     "text": [
      "W20230206 03:24:06.315982 308553216 gesture_recognizer_graph.cc:121] Hand Gesture Recognizer contains CPU only ops. Sets HandGestureRecognizerGraph acceleartion to Xnnpack.\n",
      "I20230206 03:24:06.317226 308553216 hand_gesture_recognizer_graph.cc:249] Custom gesture classifier is not defined.\n"
     ]
    },
    {
     "name": "stdout",
     "output_type": "stream",
     "text": [
      "./test/TEST_010.mp4\n"
     ]
    },
    {
     "name": "stderr",
     "output_type": "stream",
     "text": [
      "W20230206 03:24:08.003077 308553216 gesture_recognizer_graph.cc:121] Hand Gesture Recognizer contains CPU only ops. Sets HandGestureRecognizerGraph acceleartion to Xnnpack.\n",
      "I20230206 03:24:08.004227 308553216 hand_gesture_recognizer_graph.cc:249] Custom gesture classifier is not defined.\n"
     ]
    },
    {
     "name": "stdout",
     "output_type": "stream",
     "text": [
      "./test/TEST_011.mp4\n"
     ]
    },
    {
     "name": "stderr",
     "output_type": "stream",
     "text": [
      "W20230206 03:24:09.524955 308553216 gesture_recognizer_graph.cc:121] Hand Gesture Recognizer contains CPU only ops. Sets HandGestureRecognizerGraph acceleartion to Xnnpack.\n",
      "I20230206 03:24:09.526180 308553216 hand_gesture_recognizer_graph.cc:249] Custom gesture classifier is not defined.\n"
     ]
    },
    {
     "name": "stdout",
     "output_type": "stream",
     "text": [
      "./test/TEST_012.mp4\n"
     ]
    },
    {
     "name": "stderr",
     "output_type": "stream",
     "text": [
      "W20230206 03:24:11.323876 308553216 gesture_recognizer_graph.cc:121] Hand Gesture Recognizer contains CPU only ops. Sets HandGestureRecognizerGraph acceleartion to Xnnpack.\n",
      "I20230206 03:24:11.325110 308553216 hand_gesture_recognizer_graph.cc:249] Custom gesture classifier is not defined.\n"
     ]
    },
    {
     "name": "stdout",
     "output_type": "stream",
     "text": [
      "./test/TEST_013.mp4\n"
     ]
    },
    {
     "name": "stderr",
     "output_type": "stream",
     "text": [
      "W20230206 03:24:12.955828 308553216 gesture_recognizer_graph.cc:121] Hand Gesture Recognizer contains CPU only ops. Sets HandGestureRecognizerGraph acceleartion to Xnnpack.\n",
      "I20230206 03:24:12.957063 308553216 hand_gesture_recognizer_graph.cc:249] Custom gesture classifier is not defined.\n"
     ]
    },
    {
     "name": "stdout",
     "output_type": "stream",
     "text": [
      "./test/TEST_014.mp4\n"
     ]
    },
    {
     "name": "stderr",
     "output_type": "stream",
     "text": [
      "W20230206 03:24:14.475131 308553216 gesture_recognizer_graph.cc:121] Hand Gesture Recognizer contains CPU only ops. Sets HandGestureRecognizerGraph acceleartion to Xnnpack.\n",
      "I20230206 03:24:14.476387 308553216 hand_gesture_recognizer_graph.cc:249] Custom gesture classifier is not defined.\n"
     ]
    },
    {
     "name": "stdout",
     "output_type": "stream",
     "text": [
      "./test/TEST_015.mp4\n"
     ]
    },
    {
     "name": "stderr",
     "output_type": "stream",
     "text": [
      "W20230206 03:24:16.075327 308553216 gesture_recognizer_graph.cc:121] Hand Gesture Recognizer contains CPU only ops. Sets HandGestureRecognizerGraph acceleartion to Xnnpack.\n",
      "I20230206 03:24:16.076624 308553216 hand_gesture_recognizer_graph.cc:249] Custom gesture classifier is not defined.\n"
     ]
    },
    {
     "name": "stdout",
     "output_type": "stream",
     "text": [
      "./test/TEST_016.mp4\n"
     ]
    },
    {
     "name": "stderr",
     "output_type": "stream",
     "text": [
      "W20230206 03:24:16.870311 308553216 gesture_recognizer_graph.cc:121] Hand Gesture Recognizer contains CPU only ops. Sets HandGestureRecognizerGraph acceleartion to Xnnpack.\n",
      "I20230206 03:24:16.871513 308553216 hand_gesture_recognizer_graph.cc:249] Custom gesture classifier is not defined.\n"
     ]
    },
    {
     "name": "stdout",
     "output_type": "stream",
     "text": [
      "./test/TEST_017.mp4\n"
     ]
    },
    {
     "name": "stderr",
     "output_type": "stream",
     "text": [
      "W20230206 03:24:18.632072 308553216 gesture_recognizer_graph.cc:121] Hand Gesture Recognizer contains CPU only ops. Sets HandGestureRecognizerGraph acceleartion to Xnnpack.\n",
      "I20230206 03:24:18.633249 308553216 hand_gesture_recognizer_graph.cc:249] Custom gesture classifier is not defined.\n"
     ]
    },
    {
     "name": "stdout",
     "output_type": "stream",
     "text": [
      "./test/TEST_018.mp4\n"
     ]
    },
    {
     "name": "stderr",
     "output_type": "stream",
     "text": [
      "W20230206 03:24:20.568993 308553216 gesture_recognizer_graph.cc:121] Hand Gesture Recognizer contains CPU only ops. Sets HandGestureRecognizerGraph acceleartion to Xnnpack.\n",
      "I20230206 03:24:20.570176 308553216 hand_gesture_recognizer_graph.cc:249] Custom gesture classifier is not defined.\n"
     ]
    },
    {
     "name": "stdout",
     "output_type": "stream",
     "text": [
      "./test/TEST_019.mp4\n"
     ]
    },
    {
     "name": "stderr",
     "output_type": "stream",
     "text": [
      "W20230206 03:24:21.469874 308553216 gesture_recognizer_graph.cc:121] Hand Gesture Recognizer contains CPU only ops. Sets HandGestureRecognizerGraph acceleartion to Xnnpack.\n",
      "I20230206 03:24:21.471051 308553216 hand_gesture_recognizer_graph.cc:249] Custom gesture classifier is not defined.\n"
     ]
    },
    {
     "name": "stdout",
     "output_type": "stream",
     "text": [
      "./test/TEST_020.mp4\n"
     ]
    },
    {
     "name": "stderr",
     "output_type": "stream",
     "text": [
      "W20230206 03:24:23.003979 308553216 gesture_recognizer_graph.cc:121] Hand Gesture Recognizer contains CPU only ops. Sets HandGestureRecognizerGraph acceleartion to Xnnpack.\n",
      "I20230206 03:24:23.005223 308553216 hand_gesture_recognizer_graph.cc:249] Custom gesture classifier is not defined.\n"
     ]
    },
    {
     "name": "stdout",
     "output_type": "stream",
     "text": [
      "./test/TEST_021.mp4\n"
     ]
    },
    {
     "name": "stderr",
     "output_type": "stream",
     "text": [
      "W20230206 03:24:24.620967 308553216 gesture_recognizer_graph.cc:121] Hand Gesture Recognizer contains CPU only ops. Sets HandGestureRecognizerGraph acceleartion to Xnnpack.\n",
      "I20230206 03:24:24.622184 308553216 hand_gesture_recognizer_graph.cc:249] Custom gesture classifier is not defined.\n"
     ]
    },
    {
     "name": "stdout",
     "output_type": "stream",
     "text": [
      "./test/TEST_022.mp4\n"
     ]
    },
    {
     "name": "stderr",
     "output_type": "stream",
     "text": [
      "W20230206 03:24:26.359980 308553216 gesture_recognizer_graph.cc:121] Hand Gesture Recognizer contains CPU only ops. Sets HandGestureRecognizerGraph acceleartion to Xnnpack.\n",
      "I20230206 03:24:26.361303 308553216 hand_gesture_recognizer_graph.cc:249] Custom gesture classifier is not defined.\n"
     ]
    },
    {
     "name": "stdout",
     "output_type": "stream",
     "text": [
      "./test/TEST_023.mp4\n"
     ]
    },
    {
     "name": "stderr",
     "output_type": "stream",
     "text": [
      "W20230206 03:24:27.844605 308553216 gesture_recognizer_graph.cc:121] Hand Gesture Recognizer contains CPU only ops. Sets HandGestureRecognizerGraph acceleartion to Xnnpack.\n",
      "I20230206 03:24:27.845844 308553216 hand_gesture_recognizer_graph.cc:249] Custom gesture classifier is not defined.\n"
     ]
    },
    {
     "name": "stdout",
     "output_type": "stream",
     "text": [
      "./test/TEST_024.mp4\n"
     ]
    },
    {
     "name": "stderr",
     "output_type": "stream",
     "text": [
      "W20230206 03:24:29.462251 308553216 gesture_recognizer_graph.cc:121] Hand Gesture Recognizer contains CPU only ops. Sets HandGestureRecognizerGraph acceleartion to Xnnpack.\n",
      "I20230206 03:24:29.463455 308553216 hand_gesture_recognizer_graph.cc:249] Custom gesture classifier is not defined.\n"
     ]
    },
    {
     "name": "stdout",
     "output_type": "stream",
     "text": [
      "./test/TEST_025.mp4\n"
     ]
    },
    {
     "name": "stderr",
     "output_type": "stream",
     "text": [
      "W20230206 03:24:31.103477 308553216 gesture_recognizer_graph.cc:121] Hand Gesture Recognizer contains CPU only ops. Sets HandGestureRecognizerGraph acceleartion to Xnnpack.\n",
      "I20230206 03:24:31.104713 308553216 hand_gesture_recognizer_graph.cc:249] Custom gesture classifier is not defined.\n"
     ]
    },
    {
     "name": "stdout",
     "output_type": "stream",
     "text": [
      "./test/TEST_026.mp4\n"
     ]
    },
    {
     "name": "stderr",
     "output_type": "stream",
     "text": [
      "W20230206 03:24:32.673220 308553216 gesture_recognizer_graph.cc:121] Hand Gesture Recognizer contains CPU only ops. Sets HandGestureRecognizerGraph acceleartion to Xnnpack.\n",
      "I20230206 03:24:32.674487 308553216 hand_gesture_recognizer_graph.cc:249] Custom gesture classifier is not defined.\n"
     ]
    },
    {
     "name": "stdout",
     "output_type": "stream",
     "text": [
      "./test/TEST_027.mp4\n"
     ]
    },
    {
     "name": "stderr",
     "output_type": "stream",
     "text": [
      "W20230206 03:24:34.404184 308553216 gesture_recognizer_graph.cc:121] Hand Gesture Recognizer contains CPU only ops. Sets HandGestureRecognizerGraph acceleartion to Xnnpack.\n",
      "I20230206 03:24:34.405383 308553216 hand_gesture_recognizer_graph.cc:249] Custom gesture classifier is not defined.\n"
     ]
    },
    {
     "name": "stdout",
     "output_type": "stream",
     "text": [
      "./test/TEST_028.mp4\n"
     ]
    },
    {
     "name": "stderr",
     "output_type": "stream",
     "text": [
      "W20230206 03:24:35.297142 308553216 gesture_recognizer_graph.cc:121] Hand Gesture Recognizer contains CPU only ops. Sets HandGestureRecognizerGraph acceleartion to Xnnpack.\n",
      "I20230206 03:24:35.298444 308553216 hand_gesture_recognizer_graph.cc:249] Custom gesture classifier is not defined.\n"
     ]
    },
    {
     "name": "stdout",
     "output_type": "stream",
     "text": [
      "./test/TEST_029.mp4\n"
     ]
    },
    {
     "name": "stderr",
     "output_type": "stream",
     "text": [
      "W20230206 03:24:37.080646 308553216 gesture_recognizer_graph.cc:121] Hand Gesture Recognizer contains CPU only ops. Sets HandGestureRecognizerGraph acceleartion to Xnnpack.\n",
      "I20230206 03:24:37.081876 308553216 hand_gesture_recognizer_graph.cc:249] Custom gesture classifier is not defined.\n"
     ]
    },
    {
     "name": "stdout",
     "output_type": "stream",
     "text": [
      "./test/TEST_030.mp4\n"
     ]
    },
    {
     "name": "stderr",
     "output_type": "stream",
     "text": [
      "W20230206 03:24:38.627408 308553216 gesture_recognizer_graph.cc:121] Hand Gesture Recognizer contains CPU only ops. Sets HandGestureRecognizerGraph acceleartion to Xnnpack.\n",
      "I20230206 03:24:38.628650 308553216 hand_gesture_recognizer_graph.cc:249] Custom gesture classifier is not defined.\n"
     ]
    },
    {
     "name": "stdout",
     "output_type": "stream",
     "text": [
      "./test/TEST_031.mp4\n"
     ]
    },
    {
     "name": "stderr",
     "output_type": "stream",
     "text": [
      "W20230206 03:24:40.434478 308553216 gesture_recognizer_graph.cc:121] Hand Gesture Recognizer contains CPU only ops. Sets HandGestureRecognizerGraph acceleartion to Xnnpack.\n",
      "I20230206 03:24:40.435657 308553216 hand_gesture_recognizer_graph.cc:249] Custom gesture classifier is not defined.\n"
     ]
    },
    {
     "name": "stdout",
     "output_type": "stream",
     "text": [
      "./test/TEST_032.mp4\n"
     ]
    },
    {
     "name": "stderr",
     "output_type": "stream",
     "text": [
      "W20230206 03:24:41.263047 308553216 gesture_recognizer_graph.cc:121] Hand Gesture Recognizer contains CPU only ops. Sets HandGestureRecognizerGraph acceleartion to Xnnpack.\n",
      "I20230206 03:24:41.264317 308553216 hand_gesture_recognizer_graph.cc:249] Custom gesture classifier is not defined.\n"
     ]
    },
    {
     "name": "stdout",
     "output_type": "stream",
     "text": [
      "./test/TEST_033.mp4\n"
     ]
    },
    {
     "name": "stderr",
     "output_type": "stream",
     "text": [
      "W20230206 03:24:42.344947 308553216 gesture_recognizer_graph.cc:121] Hand Gesture Recognizer contains CPU only ops. Sets HandGestureRecognizerGraph acceleartion to Xnnpack.\n",
      "I20230206 03:24:42.346186 308553216 hand_gesture_recognizer_graph.cc:249] Custom gesture classifier is not defined.\n"
     ]
    },
    {
     "name": "stdout",
     "output_type": "stream",
     "text": [
      "./test/TEST_034.mp4\n"
     ]
    },
    {
     "name": "stderr",
     "output_type": "stream",
     "text": [
      "W20230206 03:24:43.183776 308553216 gesture_recognizer_graph.cc:121] Hand Gesture Recognizer contains CPU only ops. Sets HandGestureRecognizerGraph acceleartion to Xnnpack.\n",
      "I20230206 03:24:43.184985 308553216 hand_gesture_recognizer_graph.cc:249] Custom gesture classifier is not defined.\n"
     ]
    },
    {
     "name": "stdout",
     "output_type": "stream",
     "text": [
      "./test/TEST_035.mp4\n"
     ]
    },
    {
     "name": "stderr",
     "output_type": "stream",
     "text": [
      "W20230206 03:24:45.157519 308553216 gesture_recognizer_graph.cc:121] Hand Gesture Recognizer contains CPU only ops. Sets HandGestureRecognizerGraph acceleartion to Xnnpack.\n",
      "I20230206 03:24:45.158705 308553216 hand_gesture_recognizer_graph.cc:249] Custom gesture classifier is not defined.\n"
     ]
    },
    {
     "name": "stdout",
     "output_type": "stream",
     "text": [
      "./test/TEST_036.mp4\n"
     ]
    },
    {
     "name": "stderr",
     "output_type": "stream",
     "text": [
      "W20230206 03:24:45.974650 308553216 gesture_recognizer_graph.cc:121] Hand Gesture Recognizer contains CPU only ops. Sets HandGestureRecognizerGraph acceleartion to Xnnpack.\n",
      "I20230206 03:24:45.975841 308553216 hand_gesture_recognizer_graph.cc:249] Custom gesture classifier is not defined.\n"
     ]
    },
    {
     "name": "stdout",
     "output_type": "stream",
     "text": [
      "./test/TEST_037.mp4\n"
     ]
    },
    {
     "name": "stderr",
     "output_type": "stream",
     "text": [
      "W20230206 03:24:47.505683 308553216 gesture_recognizer_graph.cc:121] Hand Gesture Recognizer contains CPU only ops. Sets HandGestureRecognizerGraph acceleartion to Xnnpack.\n",
      "I20230206 03:24:47.506932 308553216 hand_gesture_recognizer_graph.cc:249] Custom gesture classifier is not defined.\n"
     ]
    },
    {
     "name": "stdout",
     "output_type": "stream",
     "text": [
      "./test/TEST_038.mp4\n"
     ]
    },
    {
     "name": "stderr",
     "output_type": "stream",
     "text": [
      "W20230206 03:24:49.146093 308553216 gesture_recognizer_graph.cc:121] Hand Gesture Recognizer contains CPU only ops. Sets HandGestureRecognizerGraph acceleartion to Xnnpack.\n",
      "I20230206 03:24:49.147327 308553216 hand_gesture_recognizer_graph.cc:249] Custom gesture classifier is not defined.\n"
     ]
    },
    {
     "name": "stdout",
     "output_type": "stream",
     "text": [
      "./test/TEST_039.mp4\n"
     ]
    },
    {
     "name": "stderr",
     "output_type": "stream",
     "text": [
      "W20230206 03:24:50.801710 308553216 gesture_recognizer_graph.cc:121] Hand Gesture Recognizer contains CPU only ops. Sets HandGestureRecognizerGraph acceleartion to Xnnpack.\n",
      "I20230206 03:24:50.802968 308553216 hand_gesture_recognizer_graph.cc:249] Custom gesture classifier is not defined.\n"
     ]
    },
    {
     "name": "stdout",
     "output_type": "stream",
     "text": [
      "./test/TEST_040.mp4\n"
     ]
    },
    {
     "name": "stderr",
     "output_type": "stream",
     "text": [
      "W20230206 03:24:52.295838 308553216 gesture_recognizer_graph.cc:121] Hand Gesture Recognizer contains CPU only ops. Sets HandGestureRecognizerGraph acceleartion to Xnnpack.\n",
      "I20230206 03:24:52.297013 308553216 hand_gesture_recognizer_graph.cc:249] Custom gesture classifier is not defined.\n"
     ]
    },
    {
     "name": "stdout",
     "output_type": "stream",
     "text": [
      "./test/TEST_041.mp4\n"
     ]
    },
    {
     "name": "stderr",
     "output_type": "stream",
     "text": [
      "W20230206 03:24:53.961083 308553216 gesture_recognizer_graph.cc:121] Hand Gesture Recognizer contains CPU only ops. Sets HandGestureRecognizerGraph acceleartion to Xnnpack.\n",
      "I20230206 03:24:53.962321 308553216 hand_gesture_recognizer_graph.cc:249] Custom gesture classifier is not defined.\n"
     ]
    },
    {
     "name": "stdout",
     "output_type": "stream",
     "text": [
      "./test/TEST_042.mp4\n"
     ]
    },
    {
     "name": "stderr",
     "output_type": "stream",
     "text": [
      "W20230206 03:24:54.844272 308553216 gesture_recognizer_graph.cc:121] Hand Gesture Recognizer contains CPU only ops. Sets HandGestureRecognizerGraph acceleartion to Xnnpack.\n",
      "I20230206 03:24:54.845594 308553216 hand_gesture_recognizer_graph.cc:249] Custom gesture classifier is not defined.\n"
     ]
    },
    {
     "name": "stdout",
     "output_type": "stream",
     "text": [
      "./test/TEST_043.mp4\n"
     ]
    },
    {
     "name": "stderr",
     "output_type": "stream",
     "text": [
      "W20230206 03:24:55.683082 308553216 gesture_recognizer_graph.cc:121] Hand Gesture Recognizer contains CPU only ops. Sets HandGestureRecognizerGraph acceleartion to Xnnpack.\n",
      "I20230206 03:24:55.684325 308553216 hand_gesture_recognizer_graph.cc:249] Custom gesture classifier is not defined.\n"
     ]
    },
    {
     "name": "stdout",
     "output_type": "stream",
     "text": [
      "./test/TEST_044.mp4\n"
     ]
    },
    {
     "name": "stderr",
     "output_type": "stream",
     "text": [
      "W20230206 03:24:57.551697 308553216 gesture_recognizer_graph.cc:121] Hand Gesture Recognizer contains CPU only ops. Sets HandGestureRecognizerGraph acceleartion to Xnnpack.\n",
      "I20230206 03:24:57.553056 308553216 hand_gesture_recognizer_graph.cc:249] Custom gesture classifier is not defined.\n"
     ]
    },
    {
     "name": "stdout",
     "output_type": "stream",
     "text": [
      "./test/TEST_045.mp4\n"
     ]
    },
    {
     "name": "stderr",
     "output_type": "stream",
     "text": [
      "W20230206 03:24:59.287586 308553216 gesture_recognizer_graph.cc:121] Hand Gesture Recognizer contains CPU only ops. Sets HandGestureRecognizerGraph acceleartion to Xnnpack.\n",
      "I20230206 03:24:59.288798 308553216 hand_gesture_recognizer_graph.cc:249] Custom gesture classifier is not defined.\n"
     ]
    },
    {
     "name": "stdout",
     "output_type": "stream",
     "text": [
      "./test/TEST_046.mp4\n"
     ]
    },
    {
     "name": "stderr",
     "output_type": "stream",
     "text": [
      "W20230206 03:25:00.888350 308553216 gesture_recognizer_graph.cc:121] Hand Gesture Recognizer contains CPU only ops. Sets HandGestureRecognizerGraph acceleartion to Xnnpack.\n",
      "I20230206 03:25:00.889501 308553216 hand_gesture_recognizer_graph.cc:249] Custom gesture classifier is not defined.\n"
     ]
    },
    {
     "name": "stdout",
     "output_type": "stream",
     "text": [
      "./test/TEST_047.mp4\n"
     ]
    },
    {
     "name": "stderr",
     "output_type": "stream",
     "text": [
      "W20230206 03:25:02.547089 308553216 gesture_recognizer_graph.cc:121] Hand Gesture Recognizer contains CPU only ops. Sets HandGestureRecognizerGraph acceleartion to Xnnpack.\n",
      "I20230206 03:25:02.548342 308553216 hand_gesture_recognizer_graph.cc:249] Custom gesture classifier is not defined.\n"
     ]
    },
    {
     "name": "stdout",
     "output_type": "stream",
     "text": [
      "./test/TEST_048.mp4\n"
     ]
    },
    {
     "name": "stderr",
     "output_type": "stream",
     "text": [
      "W20230206 03:25:04.166033 308553216 gesture_recognizer_graph.cc:121] Hand Gesture Recognizer contains CPU only ops. Sets HandGestureRecognizerGraph acceleartion to Xnnpack.\n",
      "I20230206 03:25:04.167289 308553216 hand_gesture_recognizer_graph.cc:249] Custom gesture classifier is not defined.\n"
     ]
    },
    {
     "name": "stdout",
     "output_type": "stream",
     "text": [
      "./test/TEST_049.mp4\n"
     ]
    },
    {
     "name": "stderr",
     "output_type": "stream",
     "text": [
      "W20230206 03:25:05.030730 308553216 gesture_recognizer_graph.cc:121] Hand Gesture Recognizer contains CPU only ops. Sets HandGestureRecognizerGraph acceleartion to Xnnpack.\n",
      "I20230206 03:25:05.031955 308553216 hand_gesture_recognizer_graph.cc:249] Custom gesture classifier is not defined.\n"
     ]
    },
    {
     "name": "stdout",
     "output_type": "stream",
     "text": [
      "./test/TEST_050.mp4\n"
     ]
    },
    {
     "name": "stderr",
     "output_type": "stream",
     "text": [
      "W20230206 03:25:06.685954 308553216 gesture_recognizer_graph.cc:121] Hand Gesture Recognizer contains CPU only ops. Sets HandGestureRecognizerGraph acceleartion to Xnnpack.\n",
      "I20230206 03:25:06.687191 308553216 hand_gesture_recognizer_graph.cc:249] Custom gesture classifier is not defined.\n"
     ]
    },
    {
     "name": "stdout",
     "output_type": "stream",
     "text": [
      "./test/TEST_051.mp4\n"
     ]
    },
    {
     "name": "stderr",
     "output_type": "stream",
     "text": [
      "W20230206 03:25:08.369925 308553216 gesture_recognizer_graph.cc:121] Hand Gesture Recognizer contains CPU only ops. Sets HandGestureRecognizerGraph acceleartion to Xnnpack.\n",
      "I20230206 03:25:08.371187 308553216 hand_gesture_recognizer_graph.cc:249] Custom gesture classifier is not defined.\n"
     ]
    },
    {
     "name": "stdout",
     "output_type": "stream",
     "text": [
      "./test/TEST_052.mp4\n"
     ]
    },
    {
     "name": "stderr",
     "output_type": "stream",
     "text": [
      "W20230206 03:25:09.222105 308553216 gesture_recognizer_graph.cc:121] Hand Gesture Recognizer contains CPU only ops. Sets HandGestureRecognizerGraph acceleartion to Xnnpack.\n",
      "I20230206 03:25:09.223394 308553216 hand_gesture_recognizer_graph.cc:249] Custom gesture classifier is not defined.\n"
     ]
    },
    {
     "name": "stdout",
     "output_type": "stream",
     "text": [
      "./test/TEST_053.mp4\n"
     ]
    },
    {
     "name": "stderr",
     "output_type": "stream",
     "text": [
      "W20230206 03:25:10.131228 308553216 gesture_recognizer_graph.cc:121] Hand Gesture Recognizer contains CPU only ops. Sets HandGestureRecognizerGraph acceleartion to Xnnpack.\n",
      "I20230206 03:25:10.132434 308553216 hand_gesture_recognizer_graph.cc:249] Custom gesture classifier is not defined.\n"
     ]
    },
    {
     "name": "stdout",
     "output_type": "stream",
     "text": [
      "./test/TEST_054.mp4\n"
     ]
    },
    {
     "name": "stderr",
     "output_type": "stream",
     "text": [
      "W20230206 03:25:11.762898 308553216 gesture_recognizer_graph.cc:121] Hand Gesture Recognizer contains CPU only ops. Sets HandGestureRecognizerGraph acceleartion to Xnnpack.\n",
      "I20230206 03:25:11.764082 308553216 hand_gesture_recognizer_graph.cc:249] Custom gesture classifier is not defined.\n"
     ]
    },
    {
     "name": "stdout",
     "output_type": "stream",
     "text": [
      "./test/TEST_055.mp4\n"
     ]
    },
    {
     "name": "stderr",
     "output_type": "stream",
     "text": [
      "W20230206 03:25:13.320191 308553216 gesture_recognizer_graph.cc:121] Hand Gesture Recognizer contains CPU only ops. Sets HandGestureRecognizerGraph acceleartion to Xnnpack.\n",
      "I20230206 03:25:13.321398 308553216 hand_gesture_recognizer_graph.cc:249] Custom gesture classifier is not defined.\n"
     ]
    },
    {
     "name": "stdout",
     "output_type": "stream",
     "text": [
      "./test/TEST_056.mp4\n"
     ]
    },
    {
     "name": "stderr",
     "output_type": "stream",
     "text": [
      "W20230206 03:25:14.931135 308553216 gesture_recognizer_graph.cc:121] Hand Gesture Recognizer contains CPU only ops. Sets HandGestureRecognizerGraph acceleartion to Xnnpack.\n",
      "I20230206 03:25:14.932291 308553216 hand_gesture_recognizer_graph.cc:249] Custom gesture classifier is not defined.\n"
     ]
    },
    {
     "name": "stdout",
     "output_type": "stream",
     "text": [
      "./test/TEST_057.mp4\n"
     ]
    },
    {
     "name": "stderr",
     "output_type": "stream",
     "text": [
      "W20230206 03:25:15.773149 308553216 gesture_recognizer_graph.cc:121] Hand Gesture Recognizer contains CPU only ops. Sets HandGestureRecognizerGraph acceleartion to Xnnpack.\n",
      "I20230206 03:25:15.774475 308553216 hand_gesture_recognizer_graph.cc:249] Custom gesture classifier is not defined.\n"
     ]
    },
    {
     "name": "stdout",
     "output_type": "stream",
     "text": [
      "./test/TEST_058.mp4\n"
     ]
    },
    {
     "name": "stderr",
     "output_type": "stream",
     "text": [
      "W20230206 03:25:17.453143 308553216 gesture_recognizer_graph.cc:121] Hand Gesture Recognizer contains CPU only ops. Sets HandGestureRecognizerGraph acceleartion to Xnnpack.\n",
      "I20230206 03:25:17.454337 308553216 hand_gesture_recognizer_graph.cc:249] Custom gesture classifier is not defined.\n"
     ]
    },
    {
     "name": "stdout",
     "output_type": "stream",
     "text": [
      "./test/TEST_059.mp4\n"
     ]
    },
    {
     "name": "stderr",
     "output_type": "stream",
     "text": [
      "W20230206 03:25:19.127792 308553216 gesture_recognizer_graph.cc:121] Hand Gesture Recognizer contains CPU only ops. Sets HandGestureRecognizerGraph acceleartion to Xnnpack.\n",
      "I20230206 03:25:19.128927 308553216 hand_gesture_recognizer_graph.cc:249] Custom gesture classifier is not defined.\n"
     ]
    },
    {
     "name": "stdout",
     "output_type": "stream",
     "text": [
      "./test/TEST_060.mp4\n"
     ]
    },
    {
     "name": "stderr",
     "output_type": "stream",
     "text": [
      "W20230206 03:25:20.118436 308553216 gesture_recognizer_graph.cc:121] Hand Gesture Recognizer contains CPU only ops. Sets HandGestureRecognizerGraph acceleartion to Xnnpack.\n",
      "I20230206 03:25:20.119602 308553216 hand_gesture_recognizer_graph.cc:249] Custom gesture classifier is not defined.\n"
     ]
    },
    {
     "name": "stdout",
     "output_type": "stream",
     "text": [
      "./test/TEST_061.mp4\n"
     ]
    },
    {
     "name": "stderr",
     "output_type": "stream",
     "text": [
      "W20230206 03:25:21.738963 308553216 gesture_recognizer_graph.cc:121] Hand Gesture Recognizer contains CPU only ops. Sets HandGestureRecognizerGraph acceleartion to Xnnpack.\n",
      "I20230206 03:25:21.740162 308553216 hand_gesture_recognizer_graph.cc:249] Custom gesture classifier is not defined.\n"
     ]
    },
    {
     "name": "stdout",
     "output_type": "stream",
     "text": [
      "./test/TEST_062.mp4\n"
     ]
    },
    {
     "name": "stderr",
     "output_type": "stream",
     "text": [
      "W20230206 03:25:23.423877 308553216 gesture_recognizer_graph.cc:121] Hand Gesture Recognizer contains CPU only ops. Sets HandGestureRecognizerGraph acceleartion to Xnnpack.\n",
      "I20230206 03:25:23.425132 308553216 hand_gesture_recognizer_graph.cc:249] Custom gesture classifier is not defined.\n"
     ]
    },
    {
     "name": "stdout",
     "output_type": "stream",
     "text": [
      "./test/TEST_063.mp4\n"
     ]
    },
    {
     "name": "stderr",
     "output_type": "stream",
     "text": [
      "W20230206 03:25:25.305456 308553216 gesture_recognizer_graph.cc:121] Hand Gesture Recognizer contains CPU only ops. Sets HandGestureRecognizerGraph acceleartion to Xnnpack.\n",
      "I20230206 03:25:25.306739 308553216 hand_gesture_recognizer_graph.cc:249] Custom gesture classifier is not defined.\n"
     ]
    },
    {
     "name": "stdout",
     "output_type": "stream",
     "text": [
      "./test/TEST_064.mp4\n"
     ]
    },
    {
     "name": "stderr",
     "output_type": "stream",
     "text": [
      "W20230206 03:25:27.039824 308553216 gesture_recognizer_graph.cc:121] Hand Gesture Recognizer contains CPU only ops. Sets HandGestureRecognizerGraph acceleartion to Xnnpack.\n",
      "I20230206 03:25:27.041074 308553216 hand_gesture_recognizer_graph.cc:249] Custom gesture classifier is not defined.\n"
     ]
    },
    {
     "name": "stdout",
     "output_type": "stream",
     "text": [
      "./test/TEST_065.mp4\n"
     ]
    },
    {
     "name": "stderr",
     "output_type": "stream",
     "text": [
      "W20230206 03:25:28.662390 308553216 gesture_recognizer_graph.cc:121] Hand Gesture Recognizer contains CPU only ops. Sets HandGestureRecognizerGraph acceleartion to Xnnpack.\n",
      "I20230206 03:25:28.663558 308553216 hand_gesture_recognizer_graph.cc:249] Custom gesture classifier is not defined.\n"
     ]
    },
    {
     "name": "stdout",
     "output_type": "stream",
     "text": [
      "./test/TEST_066.mp4\n"
     ]
    },
    {
     "name": "stderr",
     "output_type": "stream",
     "text": [
      "W20230206 03:25:30.245323 308553216 gesture_recognizer_graph.cc:121] Hand Gesture Recognizer contains CPU only ops. Sets HandGestureRecognizerGraph acceleartion to Xnnpack.\n",
      "I20230206 03:25:30.246598 308553216 hand_gesture_recognizer_graph.cc:249] Custom gesture classifier is not defined.\n"
     ]
    },
    {
     "name": "stdout",
     "output_type": "stream",
     "text": [
      "./test/TEST_067.mp4\n"
     ]
    },
    {
     "name": "stderr",
     "output_type": "stream",
     "text": [
      "W20230206 03:25:31.874580 308553216 gesture_recognizer_graph.cc:121] Hand Gesture Recognizer contains CPU only ops. Sets HandGestureRecognizerGraph acceleartion to Xnnpack.\n",
      "I20230206 03:25:31.875756 308553216 hand_gesture_recognizer_graph.cc:249] Custom gesture classifier is not defined.\n"
     ]
    },
    {
     "name": "stdout",
     "output_type": "stream",
     "text": [
      "./test/TEST_068.mp4\n"
     ]
    },
    {
     "name": "stderr",
     "output_type": "stream",
     "text": [
      "W20230206 03:25:33.489316 308553216 gesture_recognizer_graph.cc:121] Hand Gesture Recognizer contains CPU only ops. Sets HandGestureRecognizerGraph acceleartion to Xnnpack.\n",
      "I20230206 03:25:33.490655 308553216 hand_gesture_recognizer_graph.cc:249] Custom gesture classifier is not defined.\n"
     ]
    },
    {
     "name": "stdout",
     "output_type": "stream",
     "text": [
      "./test/TEST_069.mp4\n"
     ]
    },
    {
     "name": "stderr",
     "output_type": "stream",
     "text": [
      "W20230206 03:25:35.231696 308553216 gesture_recognizer_graph.cc:121] Hand Gesture Recognizer contains CPU only ops. Sets HandGestureRecognizerGraph acceleartion to Xnnpack.\n",
      "I20230206 03:25:35.232834 308553216 hand_gesture_recognizer_graph.cc:249] Custom gesture classifier is not defined.\n"
     ]
    },
    {
     "name": "stdout",
     "output_type": "stream",
     "text": [
      "./test/TEST_070.mp4\n"
     ]
    },
    {
     "name": "stderr",
     "output_type": "stream",
     "text": [
      "W20230206 03:25:36.135155 308553216 gesture_recognizer_graph.cc:121] Hand Gesture Recognizer contains CPU only ops. Sets HandGestureRecognizerGraph acceleartion to Xnnpack.\n",
      "I20230206 03:25:36.136322 308553216 hand_gesture_recognizer_graph.cc:249] Custom gesture classifier is not defined.\n"
     ]
    },
    {
     "name": "stdout",
     "output_type": "stream",
     "text": [
      "./test/TEST_071.mp4\n"
     ]
    },
    {
     "name": "stderr",
     "output_type": "stream",
     "text": [
      "W20230206 03:25:37.905002 308553216 gesture_recognizer_graph.cc:121] Hand Gesture Recognizer contains CPU only ops. Sets HandGestureRecognizerGraph acceleartion to Xnnpack.\n",
      "I20230206 03:25:37.906193 308553216 hand_gesture_recognizer_graph.cc:249] Custom gesture classifier is not defined.\n"
     ]
    },
    {
     "name": "stdout",
     "output_type": "stream",
     "text": [
      "./test/TEST_072.mp4\n"
     ]
    },
    {
     "name": "stderr",
     "output_type": "stream",
     "text": [
      "W20230206 03:25:39.490856 308553216 gesture_recognizer_graph.cc:121] Hand Gesture Recognizer contains CPU only ops. Sets HandGestureRecognizerGraph acceleartion to Xnnpack.\n",
      "I20230206 03:25:39.492058 308553216 hand_gesture_recognizer_graph.cc:249] Custom gesture classifier is not defined.\n"
     ]
    },
    {
     "name": "stdout",
     "output_type": "stream",
     "text": [
      "./test/TEST_073.mp4\n"
     ]
    },
    {
     "name": "stderr",
     "output_type": "stream",
     "text": [
      "W20230206 03:25:41.515810 308553216 gesture_recognizer_graph.cc:121] Hand Gesture Recognizer contains CPU only ops. Sets HandGestureRecognizerGraph acceleartion to Xnnpack.\n",
      "I20230206 03:25:41.516980 308553216 hand_gesture_recognizer_graph.cc:249] Custom gesture classifier is not defined.\n"
     ]
    },
    {
     "name": "stdout",
     "output_type": "stream",
     "text": [
      "./test/TEST_074.mp4\n"
     ]
    },
    {
     "name": "stderr",
     "output_type": "stream",
     "text": [
      "W20230206 03:25:43.019220 308553216 gesture_recognizer_graph.cc:121] Hand Gesture Recognizer contains CPU only ops. Sets HandGestureRecognizerGraph acceleartion to Xnnpack.\n",
      "I20230206 03:25:43.020438 308553216 hand_gesture_recognizer_graph.cc:249] Custom gesture classifier is not defined.\n"
     ]
    },
    {
     "name": "stdout",
     "output_type": "stream",
     "text": [
      "./test/TEST_075.mp4\n"
     ]
    },
    {
     "name": "stderr",
     "output_type": "stream",
     "text": [
      "W20230206 03:25:45.065603 308553216 gesture_recognizer_graph.cc:121] Hand Gesture Recognizer contains CPU only ops. Sets HandGestureRecognizerGraph acceleartion to Xnnpack.\n",
      "I20230206 03:25:45.066834 308553216 hand_gesture_recognizer_graph.cc:249] Custom gesture classifier is not defined.\n"
     ]
    },
    {
     "name": "stdout",
     "output_type": "stream",
     "text": [
      "./test/TEST_076.mp4\n"
     ]
    },
    {
     "name": "stderr",
     "output_type": "stream",
     "text": [
      "W20230206 03:25:46.788437 308553216 gesture_recognizer_graph.cc:121] Hand Gesture Recognizer contains CPU only ops. Sets HandGestureRecognizerGraph acceleartion to Xnnpack.\n",
      "I20230206 03:25:46.789631 308553216 hand_gesture_recognizer_graph.cc:249] Custom gesture classifier is not defined.\n"
     ]
    },
    {
     "name": "stdout",
     "output_type": "stream",
     "text": [
      "./test/TEST_077.mp4\n"
     ]
    },
    {
     "name": "stderr",
     "output_type": "stream",
     "text": [
      "W20230206 03:25:48.519763 308553216 gesture_recognizer_graph.cc:121] Hand Gesture Recognizer contains CPU only ops. Sets HandGestureRecognizerGraph acceleartion to Xnnpack.\n",
      "I20230206 03:25:48.520937 308553216 hand_gesture_recognizer_graph.cc:249] Custom gesture classifier is not defined.\n"
     ]
    },
    {
     "name": "stdout",
     "output_type": "stream",
     "text": [
      "./test/TEST_078.mp4\n"
     ]
    },
    {
     "name": "stderr",
     "output_type": "stream",
     "text": [
      "W20230206 03:25:49.344606 308553216 gesture_recognizer_graph.cc:121] Hand Gesture Recognizer contains CPU only ops. Sets HandGestureRecognizerGraph acceleartion to Xnnpack.\n",
      "I20230206 03:25:49.345927 308553216 hand_gesture_recognizer_graph.cc:249] Custom gesture classifier is not defined.\n"
     ]
    },
    {
     "name": "stdout",
     "output_type": "stream",
     "text": [
      "./test/TEST_079.mp4\n"
     ]
    },
    {
     "name": "stderr",
     "output_type": "stream",
     "text": [
      "W20230206 03:25:51.155285 308553216 gesture_recognizer_graph.cc:121] Hand Gesture Recognizer contains CPU only ops. Sets HandGestureRecognizerGraph acceleartion to Xnnpack.\n",
      "I20230206 03:25:51.156473 308553216 hand_gesture_recognizer_graph.cc:249] Custom gesture classifier is not defined.\n"
     ]
    },
    {
     "name": "stdout",
     "output_type": "stream",
     "text": [
      "./test/TEST_080.mp4\n"
     ]
    },
    {
     "name": "stderr",
     "output_type": "stream",
     "text": [
      "W20230206 03:25:53.001221 308553216 gesture_recognizer_graph.cc:121] Hand Gesture Recognizer contains CPU only ops. Sets HandGestureRecognizerGraph acceleartion to Xnnpack.\n",
      "I20230206 03:25:53.002467 308553216 hand_gesture_recognizer_graph.cc:249] Custom gesture classifier is not defined.\n"
     ]
    },
    {
     "name": "stdout",
     "output_type": "stream",
     "text": [
      "./test/TEST_081.mp4\n"
     ]
    },
    {
     "name": "stderr",
     "output_type": "stream",
     "text": [
      "W20230206 03:25:54.616780 308553216 gesture_recognizer_graph.cc:121] Hand Gesture Recognizer contains CPU only ops. Sets HandGestureRecognizerGraph acceleartion to Xnnpack.\n",
      "I20230206 03:25:54.618042 308553216 hand_gesture_recognizer_graph.cc:249] Custom gesture classifier is not defined.\n"
     ]
    },
    {
     "name": "stdout",
     "output_type": "stream",
     "text": [
      "./test/TEST_082.mp4\n"
     ]
    },
    {
     "name": "stderr",
     "output_type": "stream",
     "text": [
      "W20230206 03:25:56.536306 308553216 gesture_recognizer_graph.cc:121] Hand Gesture Recognizer contains CPU only ops. Sets HandGestureRecognizerGraph acceleartion to Xnnpack.\n",
      "I20230206 03:25:56.537477 308553216 hand_gesture_recognizer_graph.cc:249] Custom gesture classifier is not defined.\n"
     ]
    },
    {
     "name": "stdout",
     "output_type": "stream",
     "text": [
      "./test/TEST_083.mp4\n"
     ]
    },
    {
     "name": "stderr",
     "output_type": "stream",
     "text": [
      "W20230206 03:25:58.175894 308553216 gesture_recognizer_graph.cc:121] Hand Gesture Recognizer contains CPU only ops. Sets HandGestureRecognizerGraph acceleartion to Xnnpack.\n",
      "I20230206 03:25:58.177084 308553216 hand_gesture_recognizer_graph.cc:249] Custom gesture classifier is not defined.\n"
     ]
    },
    {
     "name": "stdout",
     "output_type": "stream",
     "text": [
      "./test/TEST_084.mp4\n"
     ]
    },
    {
     "name": "stderr",
     "output_type": "stream",
     "text": [
      "W20230206 03:25:59.164269 308553216 gesture_recognizer_graph.cc:121] Hand Gesture Recognizer contains CPU only ops. Sets HandGestureRecognizerGraph acceleartion to Xnnpack.\n",
      "I20230206 03:25:59.165547 308553216 hand_gesture_recognizer_graph.cc:249] Custom gesture classifier is not defined.\n"
     ]
    },
    {
     "name": "stdout",
     "output_type": "stream",
     "text": [
      "./test/TEST_085.mp4\n"
     ]
    },
    {
     "name": "stderr",
     "output_type": "stream",
     "text": [
      "W20230206 03:26:00.734256 308553216 gesture_recognizer_graph.cc:121] Hand Gesture Recognizer contains CPU only ops. Sets HandGestureRecognizerGraph acceleartion to Xnnpack.\n",
      "I20230206 03:26:00.735538 308553216 hand_gesture_recognizer_graph.cc:249] Custom gesture classifier is not defined.\n"
     ]
    },
    {
     "name": "stdout",
     "output_type": "stream",
     "text": [
      "./test/TEST_086.mp4\n"
     ]
    },
    {
     "name": "stderr",
     "output_type": "stream",
     "text": [
      "W20230206 03:26:02.254612 308553216 gesture_recognizer_graph.cc:121] Hand Gesture Recognizer contains CPU only ops. Sets HandGestureRecognizerGraph acceleartion to Xnnpack.\n",
      "I20230206 03:26:02.255784 308553216 hand_gesture_recognizer_graph.cc:249] Custom gesture classifier is not defined.\n"
     ]
    },
    {
     "name": "stdout",
     "output_type": "stream",
     "text": [
      "./test/TEST_087.mp4\n"
     ]
    },
    {
     "name": "stderr",
     "output_type": "stream",
     "text": [
      "W20230206 03:26:03.728914 308553216 gesture_recognizer_graph.cc:121] Hand Gesture Recognizer contains CPU only ops. Sets HandGestureRecognizerGraph acceleartion to Xnnpack.\n",
      "I20230206 03:26:03.730116 308553216 hand_gesture_recognizer_graph.cc:249] Custom gesture classifier is not defined.\n"
     ]
    },
    {
     "name": "stdout",
     "output_type": "stream",
     "text": [
      "./test/TEST_088.mp4\n"
     ]
    },
    {
     "name": "stderr",
     "output_type": "stream",
     "text": [
      "W20230206 03:26:05.241277 308553216 gesture_recognizer_graph.cc:121] Hand Gesture Recognizer contains CPU only ops. Sets HandGestureRecognizerGraph acceleartion to Xnnpack.\n",
      "I20230206 03:26:05.242480 308553216 hand_gesture_recognizer_graph.cc:249] Custom gesture classifier is not defined.\n"
     ]
    },
    {
     "name": "stdout",
     "output_type": "stream",
     "text": [
      "./test/TEST_089.mp4\n"
     ]
    },
    {
     "name": "stderr",
     "output_type": "stream",
     "text": [
      "W20230206 03:26:06.851536 308553216 gesture_recognizer_graph.cc:121] Hand Gesture Recognizer contains CPU only ops. Sets HandGestureRecognizerGraph acceleartion to Xnnpack.\n",
      "I20230206 03:26:06.852769 308553216 hand_gesture_recognizer_graph.cc:249] Custom gesture classifier is not defined.\n"
     ]
    },
    {
     "name": "stdout",
     "output_type": "stream",
     "text": [
      "./test/TEST_090.mp4\n"
     ]
    },
    {
     "name": "stderr",
     "output_type": "stream",
     "text": [
      "W20230206 03:26:08.472872 308553216 gesture_recognizer_graph.cc:121] Hand Gesture Recognizer contains CPU only ops. Sets HandGestureRecognizerGraph acceleartion to Xnnpack.\n",
      "I20230206 03:26:08.474032 308553216 hand_gesture_recognizer_graph.cc:249] Custom gesture classifier is not defined.\n"
     ]
    },
    {
     "name": "stdout",
     "output_type": "stream",
     "text": [
      "./test/TEST_091.mp4\n"
     ]
    },
    {
     "name": "stderr",
     "output_type": "stream",
     "text": [
      "W20230206 03:26:10.602598 308553216 gesture_recognizer_graph.cc:121] Hand Gesture Recognizer contains CPU only ops. Sets HandGestureRecognizerGraph acceleartion to Xnnpack.\n",
      "I20230206 03:26:10.603814 308553216 hand_gesture_recognizer_graph.cc:249] Custom gesture classifier is not defined.\n"
     ]
    },
    {
     "name": "stdout",
     "output_type": "stream",
     "text": [
      "./test/TEST_092.mp4\n"
     ]
    },
    {
     "name": "stderr",
     "output_type": "stream",
     "text": [
      "W20230206 03:26:12.290736 308553216 gesture_recognizer_graph.cc:121] Hand Gesture Recognizer contains CPU only ops. Sets HandGestureRecognizerGraph acceleartion to Xnnpack.\n",
      "I20230206 03:26:12.291890 308553216 hand_gesture_recognizer_graph.cc:249] Custom gesture classifier is not defined.\n"
     ]
    },
    {
     "name": "stdout",
     "output_type": "stream",
     "text": [
      "./test/TEST_093.mp4\n"
     ]
    },
    {
     "name": "stderr",
     "output_type": "stream",
     "text": [
      "W20230206 03:26:13.964763 308553216 gesture_recognizer_graph.cc:121] Hand Gesture Recognizer contains CPU only ops. Sets HandGestureRecognizerGraph acceleartion to Xnnpack.\n",
      "I20230206 03:26:13.966053 308553216 hand_gesture_recognizer_graph.cc:249] Custom gesture classifier is not defined.\n"
     ]
    },
    {
     "name": "stdout",
     "output_type": "stream",
     "text": [
      "./test/TEST_094.mp4\n"
     ]
    },
    {
     "name": "stderr",
     "output_type": "stream",
     "text": [
      "W20230206 03:26:15.669155 308553216 gesture_recognizer_graph.cc:121] Hand Gesture Recognizer contains CPU only ops. Sets HandGestureRecognizerGraph acceleartion to Xnnpack.\n",
      "I20230206 03:26:15.670357 308553216 hand_gesture_recognizer_graph.cc:249] Custom gesture classifier is not defined.\n"
     ]
    },
    {
     "name": "stdout",
     "output_type": "stream",
     "text": [
      "./test/TEST_095.mp4\n"
     ]
    },
    {
     "name": "stderr",
     "output_type": "stream",
     "text": [
      "W20230206 03:26:16.547470 308553216 gesture_recognizer_graph.cc:121] Hand Gesture Recognizer contains CPU only ops. Sets HandGestureRecognizerGraph acceleartion to Xnnpack.\n",
      "I20230206 03:26:16.548645 308553216 hand_gesture_recognizer_graph.cc:249] Custom gesture classifier is not defined.\n"
     ]
    },
    {
     "name": "stdout",
     "output_type": "stream",
     "text": [
      "./test/TEST_096.mp4\n"
     ]
    },
    {
     "name": "stderr",
     "output_type": "stream",
     "text": [
      "W20230206 03:26:18.182224 308553216 gesture_recognizer_graph.cc:121] Hand Gesture Recognizer contains CPU only ops. Sets HandGestureRecognizerGraph acceleartion to Xnnpack.\n",
      "I20230206 03:26:18.183357 308553216 hand_gesture_recognizer_graph.cc:249] Custom gesture classifier is not defined.\n"
     ]
    },
    {
     "name": "stdout",
     "output_type": "stream",
     "text": [
      "./test/TEST_097.mp4\n"
     ]
    },
    {
     "name": "stderr",
     "output_type": "stream",
     "text": [
      "W20230206 03:26:20.012979 308553216 gesture_recognizer_graph.cc:121] Hand Gesture Recognizer contains CPU only ops. Sets HandGestureRecognizerGraph acceleartion to Xnnpack.\n",
      "I20230206 03:26:20.014140 308553216 hand_gesture_recognizer_graph.cc:249] Custom gesture classifier is not defined.\n"
     ]
    },
    {
     "name": "stdout",
     "output_type": "stream",
     "text": [
      "./test/TEST_098.mp4\n"
     ]
    },
    {
     "name": "stderr",
     "output_type": "stream",
     "text": [
      "W20230206 03:26:21.597457 308553216 gesture_recognizer_graph.cc:121] Hand Gesture Recognizer contains CPU only ops. Sets HandGestureRecognizerGraph acceleartion to Xnnpack.\n",
      "I20230206 03:26:21.598641 308553216 hand_gesture_recognizer_graph.cc:249] Custom gesture classifier is not defined.\n"
     ]
    },
    {
     "name": "stdout",
     "output_type": "stream",
     "text": [
      "./test/TEST_099.mp4\n"
     ]
    },
    {
     "name": "stderr",
     "output_type": "stream",
     "text": [
      "W20230206 03:26:23.257084 308553216 gesture_recognizer_graph.cc:121] Hand Gesture Recognizer contains CPU only ops. Sets HandGestureRecognizerGraph acceleartion to Xnnpack.\n",
      "I20230206 03:26:23.258423 308553216 hand_gesture_recognizer_graph.cc:249] Custom gesture classifier is not defined.\n"
     ]
    },
    {
     "name": "stdout",
     "output_type": "stream",
     "text": [
      "./test/TEST_100.mp4\n"
     ]
    },
    {
     "name": "stderr",
     "output_type": "stream",
     "text": [
      "W20230206 03:26:24.846493 308553216 gesture_recognizer_graph.cc:121] Hand Gesture Recognizer contains CPU only ops. Sets HandGestureRecognizerGraph acceleartion to Xnnpack.\n",
      "I20230206 03:26:24.847671 308553216 hand_gesture_recognizer_graph.cc:249] Custom gesture classifier is not defined.\n"
     ]
    },
    {
     "name": "stdout",
     "output_type": "stream",
     "text": [
      "./test/TEST_101.mp4\n"
     ]
    },
    {
     "name": "stderr",
     "output_type": "stream",
     "text": [
      "W20230206 03:26:26.615722 308553216 gesture_recognizer_graph.cc:121] Hand Gesture Recognizer contains CPU only ops. Sets HandGestureRecognizerGraph acceleartion to Xnnpack.\n",
      "I20230206 03:26:26.616921 308553216 hand_gesture_recognizer_graph.cc:249] Custom gesture classifier is not defined.\n"
     ]
    },
    {
     "name": "stdout",
     "output_type": "stream",
     "text": [
      "./test/TEST_102.mp4\n"
     ]
    },
    {
     "name": "stderr",
     "output_type": "stream",
     "text": [
      "W20230206 03:26:28.207087 308553216 gesture_recognizer_graph.cc:121] Hand Gesture Recognizer contains CPU only ops. Sets HandGestureRecognizerGraph acceleartion to Xnnpack.\n",
      "I20230206 03:26:28.208214 308553216 hand_gesture_recognizer_graph.cc:249] Custom gesture classifier is not defined.\n"
     ]
    },
    {
     "name": "stdout",
     "output_type": "stream",
     "text": [
      "./test/TEST_103.mp4\n"
     ]
    },
    {
     "name": "stderr",
     "output_type": "stream",
     "text": [
      "W20230206 03:26:30.143898 308553216 gesture_recognizer_graph.cc:121] Hand Gesture Recognizer contains CPU only ops. Sets HandGestureRecognizerGraph acceleartion to Xnnpack.\n",
      "I20230206 03:26:30.145099 308553216 hand_gesture_recognizer_graph.cc:249] Custom gesture classifier is not defined.\n"
     ]
    },
    {
     "name": "stdout",
     "output_type": "stream",
     "text": [
      "./test/TEST_104.mp4\n"
     ]
    },
    {
     "name": "stderr",
     "output_type": "stream",
     "text": [
      "W20230206 03:26:31.038852 308553216 gesture_recognizer_graph.cc:121] Hand Gesture Recognizer contains CPU only ops. Sets HandGestureRecognizerGraph acceleartion to Xnnpack.\n",
      "I20230206 03:26:31.040072 308553216 hand_gesture_recognizer_graph.cc:249] Custom gesture classifier is not defined.\n"
     ]
    },
    {
     "name": "stdout",
     "output_type": "stream",
     "text": [
      "./test/TEST_105.mp4\n"
     ]
    },
    {
     "name": "stderr",
     "output_type": "stream",
     "text": [
      "W20230206 03:26:32.649828 308553216 gesture_recognizer_graph.cc:121] Hand Gesture Recognizer contains CPU only ops. Sets HandGestureRecognizerGraph acceleartion to Xnnpack.\n",
      "I20230206 03:26:32.651000 308553216 hand_gesture_recognizer_graph.cc:249] Custom gesture classifier is not defined.\n"
     ]
    },
    {
     "name": "stdout",
     "output_type": "stream",
     "text": [
      "./test/TEST_106.mp4\n"
     ]
    },
    {
     "name": "stderr",
     "output_type": "stream",
     "text": [
      "W20230206 03:26:33.505026 308553216 gesture_recognizer_graph.cc:121] Hand Gesture Recognizer contains CPU only ops. Sets HandGestureRecognizerGraph acceleartion to Xnnpack.\n",
      "I20230206 03:26:33.506386 308553216 hand_gesture_recognizer_graph.cc:249] Custom gesture classifier is not defined.\n"
     ]
    },
    {
     "name": "stdout",
     "output_type": "stream",
     "text": [
      "./test/TEST_107.mp4\n"
     ]
    },
    {
     "name": "stderr",
     "output_type": "stream",
     "text": [
      "W20230206 03:26:35.139587 308553216 gesture_recognizer_graph.cc:121] Hand Gesture Recognizer contains CPU only ops. Sets HandGestureRecognizerGraph acceleartion to Xnnpack.\n",
      "I20230206 03:26:35.140782 308553216 hand_gesture_recognizer_graph.cc:249] Custom gesture classifier is not defined.\n"
     ]
    },
    {
     "name": "stdout",
     "output_type": "stream",
     "text": [
      "./test/TEST_108.mp4\n"
     ]
    },
    {
     "name": "stderr",
     "output_type": "stream",
     "text": [
      "W20230206 03:26:36.039153 308553216 gesture_recognizer_graph.cc:121] Hand Gesture Recognizer contains CPU only ops. Sets HandGestureRecognizerGraph acceleartion to Xnnpack.\n",
      "I20230206 03:26:36.040306 308553216 hand_gesture_recognizer_graph.cc:249] Custom gesture classifier is not defined.\n"
     ]
    },
    {
     "name": "stdout",
     "output_type": "stream",
     "text": [
      "./test/TEST_109.mp4\n"
     ]
    },
    {
     "name": "stderr",
     "output_type": "stream",
     "text": [
      "W20230206 03:26:37.681901 308553216 gesture_recognizer_graph.cc:121] Hand Gesture Recognizer contains CPU only ops. Sets HandGestureRecognizerGraph acceleartion to Xnnpack.\n",
      "I20230206 03:26:37.683079 308553216 hand_gesture_recognizer_graph.cc:249] Custom gesture classifier is not defined.\n"
     ]
    },
    {
     "name": "stdout",
     "output_type": "stream",
     "text": [
      "./test/TEST_110.mp4\n"
     ]
    },
    {
     "name": "stderr",
     "output_type": "stream",
     "text": [
      "W20230206 03:26:39.326614 308553216 gesture_recognizer_graph.cc:121] Hand Gesture Recognizer contains CPU only ops. Sets HandGestureRecognizerGraph acceleartion to Xnnpack.\n",
      "I20230206 03:26:39.327926 308553216 hand_gesture_recognizer_graph.cc:249] Custom gesture classifier is not defined.\n"
     ]
    },
    {
     "name": "stdout",
     "output_type": "stream",
     "text": [
      "./test/TEST_111.mp4\n"
     ]
    },
    {
     "name": "stderr",
     "output_type": "stream",
     "text": [
      "W20230206 03:26:40.211741 308553216 gesture_recognizer_graph.cc:121] Hand Gesture Recognizer contains CPU only ops. Sets HandGestureRecognizerGraph acceleartion to Xnnpack.\n",
      "I20230206 03:26:40.213064 308553216 hand_gesture_recognizer_graph.cc:249] Custom gesture classifier is not defined.\n"
     ]
    },
    {
     "name": "stdout",
     "output_type": "stream",
     "text": [
      "./test/TEST_112.mp4\n"
     ]
    },
    {
     "name": "stderr",
     "output_type": "stream",
     "text": [
      "W20230206 03:26:41.859373 308553216 gesture_recognizer_graph.cc:121] Hand Gesture Recognizer contains CPU only ops. Sets HandGestureRecognizerGraph acceleartion to Xnnpack.\n",
      "I20230206 03:26:41.860602 308553216 hand_gesture_recognizer_graph.cc:249] Custom gesture classifier is not defined.\n"
     ]
    },
    {
     "name": "stdout",
     "output_type": "stream",
     "text": [
      "./test/TEST_113.mp4\n"
     ]
    },
    {
     "name": "stderr",
     "output_type": "stream",
     "text": [
      "W20230206 03:26:43.536263 308553216 gesture_recognizer_graph.cc:121] Hand Gesture Recognizer contains CPU only ops. Sets HandGestureRecognizerGraph acceleartion to Xnnpack.\n",
      "I20230206 03:26:43.537429 308553216 hand_gesture_recognizer_graph.cc:249] Custom gesture classifier is not defined.\n"
     ]
    },
    {
     "name": "stdout",
     "output_type": "stream",
     "text": [
      "./test/TEST_114.mp4\n"
     ]
    },
    {
     "name": "stderr",
     "output_type": "stream",
     "text": [
      "W20230206 03:26:45.352844 308553216 gesture_recognizer_graph.cc:121] Hand Gesture Recognizer contains CPU only ops. Sets HandGestureRecognizerGraph acceleartion to Xnnpack.\n",
      "I20230206 03:26:45.353996 308553216 hand_gesture_recognizer_graph.cc:249] Custom gesture classifier is not defined.\n"
     ]
    },
    {
     "name": "stdout",
     "output_type": "stream",
     "text": [
      "./test/TEST_115.mp4\n"
     ]
    },
    {
     "name": "stderr",
     "output_type": "stream",
     "text": [
      "W20230206 03:26:47.112612 308553216 gesture_recognizer_graph.cc:121] Hand Gesture Recognizer contains CPU only ops. Sets HandGestureRecognizerGraph acceleartion to Xnnpack.\n",
      "I20230206 03:26:47.113901 308553216 hand_gesture_recognizer_graph.cc:249] Custom gesture classifier is not defined.\n"
     ]
    },
    {
     "name": "stdout",
     "output_type": "stream",
     "text": [
      "./test/TEST_116.mp4\n"
     ]
    },
    {
     "name": "stderr",
     "output_type": "stream",
     "text": [
      "W20230206 03:26:48.767084 308553216 gesture_recognizer_graph.cc:121] Hand Gesture Recognizer contains CPU only ops. Sets HandGestureRecognizerGraph acceleartion to Xnnpack.\n",
      "I20230206 03:26:48.768244 308553216 hand_gesture_recognizer_graph.cc:249] Custom gesture classifier is not defined.\n"
     ]
    },
    {
     "name": "stdout",
     "output_type": "stream",
     "text": [
      "./test/TEST_117.mp4\n"
     ]
    },
    {
     "name": "stderr",
     "output_type": "stream",
     "text": [
      "W20230206 03:26:50.472288 308553216 gesture_recognizer_graph.cc:121] Hand Gesture Recognizer contains CPU only ops. Sets HandGestureRecognizerGraph acceleartion to Xnnpack.\n",
      "I20230206 03:26:50.473474 308553216 hand_gesture_recognizer_graph.cc:249] Custom gesture classifier is not defined.\n"
     ]
    },
    {
     "name": "stdout",
     "output_type": "stream",
     "text": [
      "./test/TEST_118.mp4\n"
     ]
    },
    {
     "name": "stderr",
     "output_type": "stream",
     "text": [
      "W20230206 03:26:52.038820 308553216 gesture_recognizer_graph.cc:121] Hand Gesture Recognizer contains CPU only ops. Sets HandGestureRecognizerGraph acceleartion to Xnnpack.\n",
      "I20230206 03:26:52.040016 308553216 hand_gesture_recognizer_graph.cc:249] Custom gesture classifier is not defined.\n"
     ]
    },
    {
     "name": "stdout",
     "output_type": "stream",
     "text": [
      "./test/TEST_119.mp4\n"
     ]
    },
    {
     "name": "stderr",
     "output_type": "stream",
     "text": [
      "W20230206 03:26:53.616438 308553216 gesture_recognizer_graph.cc:121] Hand Gesture Recognizer contains CPU only ops. Sets HandGestureRecognizerGraph acceleartion to Xnnpack.\n",
      "I20230206 03:26:53.617719 308553216 hand_gesture_recognizer_graph.cc:249] Custom gesture classifier is not defined.\n"
     ]
    },
    {
     "name": "stdout",
     "output_type": "stream",
     "text": [
      "./test/TEST_120.mp4\n"
     ]
    },
    {
     "name": "stderr",
     "output_type": "stream",
     "text": [
      "W20230206 03:26:55.590016 308553216 gesture_recognizer_graph.cc:121] Hand Gesture Recognizer contains CPU only ops. Sets HandGestureRecognizerGraph acceleartion to Xnnpack.\n",
      "I20230206 03:26:55.591208 308553216 hand_gesture_recognizer_graph.cc:249] Custom gesture classifier is not defined.\n"
     ]
    },
    {
     "name": "stdout",
     "output_type": "stream",
     "text": [
      "./test/TEST_121.mp4\n"
     ]
    },
    {
     "name": "stderr",
     "output_type": "stream",
     "text": [
      "W20230206 03:26:57.626560 308553216 gesture_recognizer_graph.cc:121] Hand Gesture Recognizer contains CPU only ops. Sets HandGestureRecognizerGraph acceleartion to Xnnpack.\n",
      "I20230206 03:26:57.627765 308553216 hand_gesture_recognizer_graph.cc:249] Custom gesture classifier is not defined.\n"
     ]
    },
    {
     "name": "stdout",
     "output_type": "stream",
     "text": [
      "./test/TEST_122.mp4\n"
     ]
    },
    {
     "name": "stderr",
     "output_type": "stream",
     "text": [
      "W20230206 03:26:59.706847 308553216 gesture_recognizer_graph.cc:121] Hand Gesture Recognizer contains CPU only ops. Sets HandGestureRecognizerGraph acceleartion to Xnnpack.\n",
      "I20230206 03:26:59.708030 308553216 hand_gesture_recognizer_graph.cc:249] Custom gesture classifier is not defined.\n"
     ]
    },
    {
     "name": "stdout",
     "output_type": "stream",
     "text": [
      "./test/TEST_123.mp4\n"
     ]
    },
    {
     "name": "stderr",
     "output_type": "stream",
     "text": [
      "W20230206 03:27:01.331705 308553216 gesture_recognizer_graph.cc:121] Hand Gesture Recognizer contains CPU only ops. Sets HandGestureRecognizerGraph acceleartion to Xnnpack.\n",
      "I20230206 03:27:01.333006 308553216 hand_gesture_recognizer_graph.cc:249] Custom gesture classifier is not defined.\n"
     ]
    },
    {
     "name": "stdout",
     "output_type": "stream",
     "text": [
      "./test/TEST_124.mp4\n"
     ]
    },
    {
     "name": "stderr",
     "output_type": "stream",
     "text": [
      "W20230206 03:27:03.034375 308553216 gesture_recognizer_graph.cc:121] Hand Gesture Recognizer contains CPU only ops. Sets HandGestureRecognizerGraph acceleartion to Xnnpack.\n",
      "I20230206 03:27:03.035622 308553216 hand_gesture_recognizer_graph.cc:249] Custom gesture classifier is not defined.\n"
     ]
    },
    {
     "name": "stdout",
     "output_type": "stream",
     "text": [
      "./test/TEST_125.mp4\n"
     ]
    },
    {
     "name": "stderr",
     "output_type": "stream",
     "text": [
      "W20230206 03:27:04.713591 308553216 gesture_recognizer_graph.cc:121] Hand Gesture Recognizer contains CPU only ops. Sets HandGestureRecognizerGraph acceleartion to Xnnpack.\n",
      "I20230206 03:27:04.714866 308553216 hand_gesture_recognizer_graph.cc:249] Custom gesture classifier is not defined.\n"
     ]
    },
    {
     "name": "stdout",
     "output_type": "stream",
     "text": [
      "./test/TEST_126.mp4\n"
     ]
    },
    {
     "name": "stderr",
     "output_type": "stream",
     "text": [
      "W20230206 03:27:05.592953 308553216 gesture_recognizer_graph.cc:121] Hand Gesture Recognizer contains CPU only ops. Sets HandGestureRecognizerGraph acceleartion to Xnnpack.\n",
      "I20230206 03:27:05.594131 308553216 hand_gesture_recognizer_graph.cc:249] Custom gesture classifier is not defined.\n"
     ]
    },
    {
     "name": "stdout",
     "output_type": "stream",
     "text": [
      "./test/TEST_127.mp4\n"
     ]
    },
    {
     "name": "stderr",
     "output_type": "stream",
     "text": [
      "W20230206 03:27:07.357743 308553216 gesture_recognizer_graph.cc:121] Hand Gesture Recognizer contains CPU only ops. Sets HandGestureRecognizerGraph acceleartion to Xnnpack.\n",
      "I20230206 03:27:07.358932 308553216 hand_gesture_recognizer_graph.cc:249] Custom gesture classifier is not defined.\n"
     ]
    },
    {
     "name": "stdout",
     "output_type": "stream",
     "text": [
      "./test/TEST_128.mp4\n"
     ]
    },
    {
     "name": "stderr",
     "output_type": "stream",
     "text": [
      "W20230206 03:27:09.001868 308553216 gesture_recognizer_graph.cc:121] Hand Gesture Recognizer contains CPU only ops. Sets HandGestureRecognizerGraph acceleartion to Xnnpack.\n",
      "I20230206 03:27:09.003094 308553216 hand_gesture_recognizer_graph.cc:249] Custom gesture classifier is not defined.\n"
     ]
    },
    {
     "name": "stdout",
     "output_type": "stream",
     "text": [
      "./test/TEST_129.mp4\n"
     ]
    },
    {
     "name": "stderr",
     "output_type": "stream",
     "text": [
      "W20230206 03:27:10.868986 308553216 gesture_recognizer_graph.cc:121] Hand Gesture Recognizer contains CPU only ops. Sets HandGestureRecognizerGraph acceleartion to Xnnpack.\n",
      "I20230206 03:27:10.870378 308553216 hand_gesture_recognizer_graph.cc:249] Custom gesture classifier is not defined.\n"
     ]
    },
    {
     "name": "stdout",
     "output_type": "stream",
     "text": [
      "./test/TEST_130.mp4\n"
     ]
    },
    {
     "name": "stderr",
     "output_type": "stream",
     "text": [
      "W20230206 03:27:11.769789 308553216 gesture_recognizer_graph.cc:121] Hand Gesture Recognizer contains CPU only ops. Sets HandGestureRecognizerGraph acceleartion to Xnnpack.\n",
      "I20230206 03:27:11.771101 308553216 hand_gesture_recognizer_graph.cc:249] Custom gesture classifier is not defined.\n"
     ]
    },
    {
     "name": "stdout",
     "output_type": "stream",
     "text": [
      "./test/TEST_131.mp4\n"
     ]
    },
    {
     "name": "stderr",
     "output_type": "stream",
     "text": [
      "W20230206 03:27:13.403298 308553216 gesture_recognizer_graph.cc:121] Hand Gesture Recognizer contains CPU only ops. Sets HandGestureRecognizerGraph acceleartion to Xnnpack.\n",
      "I20230206 03:27:13.404557 308553216 hand_gesture_recognizer_graph.cc:249] Custom gesture classifier is not defined.\n"
     ]
    },
    {
     "name": "stdout",
     "output_type": "stream",
     "text": [
      "./test/TEST_132.mp4\n"
     ]
    },
    {
     "name": "stderr",
     "output_type": "stream",
     "text": [
      "W20230206 03:27:15.160516 308553216 gesture_recognizer_graph.cc:121] Hand Gesture Recognizer contains CPU only ops. Sets HandGestureRecognizerGraph acceleartion to Xnnpack.\n",
      "I20230206 03:27:15.161671 308553216 hand_gesture_recognizer_graph.cc:249] Custom gesture classifier is not defined.\n"
     ]
    },
    {
     "name": "stdout",
     "output_type": "stream",
     "text": [
      "./test/TEST_133.mp4\n"
     ]
    },
    {
     "name": "stderr",
     "output_type": "stream",
     "text": [
      "W20230206 03:27:16.102659 308553216 gesture_recognizer_graph.cc:121] Hand Gesture Recognizer contains CPU only ops. Sets HandGestureRecognizerGraph acceleartion to Xnnpack.\n",
      "I20230206 03:27:16.104007 308553216 hand_gesture_recognizer_graph.cc:249] Custom gesture classifier is not defined.\n"
     ]
    },
    {
     "name": "stdout",
     "output_type": "stream",
     "text": [
      "./test/TEST_134.mp4\n"
     ]
    },
    {
     "name": "stderr",
     "output_type": "stream",
     "text": [
      "W20230206 03:27:17.682754 308553216 gesture_recognizer_graph.cc:121] Hand Gesture Recognizer contains CPU only ops. Sets HandGestureRecognizerGraph acceleartion to Xnnpack.\n",
      "I20230206 03:27:17.683950 308553216 hand_gesture_recognizer_graph.cc:249] Custom gesture classifier is not defined.\n"
     ]
    },
    {
     "name": "stdout",
     "output_type": "stream",
     "text": [
      "./test/TEST_135.mp4\n"
     ]
    },
    {
     "name": "stderr",
     "output_type": "stream",
     "text": [
      "W20230206 03:27:18.645689 308553216 gesture_recognizer_graph.cc:121] Hand Gesture Recognizer contains CPU only ops. Sets HandGestureRecognizerGraph acceleartion to Xnnpack.\n",
      "I20230206 03:27:18.646890 308553216 hand_gesture_recognizer_graph.cc:249] Custom gesture classifier is not defined.\n"
     ]
    },
    {
     "name": "stdout",
     "output_type": "stream",
     "text": [
      "./test/TEST_136.mp4\n"
     ]
    },
    {
     "name": "stderr",
     "output_type": "stream",
     "text": [
      "W20230206 03:27:20.279461 308553216 gesture_recognizer_graph.cc:121] Hand Gesture Recognizer contains CPU only ops. Sets HandGestureRecognizerGraph acceleartion to Xnnpack.\n",
      "I20230206 03:27:20.280630 308553216 hand_gesture_recognizer_graph.cc:249] Custom gesture classifier is not defined.\n"
     ]
    },
    {
     "name": "stdout",
     "output_type": "stream",
     "text": [
      "./test/TEST_137.mp4\n"
     ]
    },
    {
     "name": "stderr",
     "output_type": "stream",
     "text": [
      "W20230206 03:27:21.916637 308553216 gesture_recognizer_graph.cc:121] Hand Gesture Recognizer contains CPU only ops. Sets HandGestureRecognizerGraph acceleartion to Xnnpack.\n",
      "I20230206 03:27:21.917809 308553216 hand_gesture_recognizer_graph.cc:249] Custom gesture classifier is not defined.\n"
     ]
    },
    {
     "name": "stdout",
     "output_type": "stream",
     "text": [
      "./test/TEST_138.mp4\n"
     ]
    },
    {
     "name": "stderr",
     "output_type": "stream",
     "text": [
      "W20230206 03:27:23.492444 308553216 gesture_recognizer_graph.cc:121] Hand Gesture Recognizer contains CPU only ops. Sets HandGestureRecognizerGraph acceleartion to Xnnpack.\n",
      "I20230206 03:27:23.493680 308553216 hand_gesture_recognizer_graph.cc:249] Custom gesture classifier is not defined.\n"
     ]
    },
    {
     "name": "stdout",
     "output_type": "stream",
     "text": [
      "./test/TEST_139.mp4\n"
     ]
    },
    {
     "name": "stderr",
     "output_type": "stream",
     "text": [
      "W20230206 03:27:25.168159 308553216 gesture_recognizer_graph.cc:121] Hand Gesture Recognizer contains CPU only ops. Sets HandGestureRecognizerGraph acceleartion to Xnnpack.\n",
      "I20230206 03:27:25.169430 308553216 hand_gesture_recognizer_graph.cc:249] Custom gesture classifier is not defined.\n"
     ]
    },
    {
     "name": "stdout",
     "output_type": "stream",
     "text": [
      "./test/TEST_140.mp4\n"
     ]
    },
    {
     "name": "stderr",
     "output_type": "stream",
     "text": [
      "W20230206 03:27:26.864935 308553216 gesture_recognizer_graph.cc:121] Hand Gesture Recognizer contains CPU only ops. Sets HandGestureRecognizerGraph acceleartion to Xnnpack.\n",
      "I20230206 03:27:26.866194 308553216 hand_gesture_recognizer_graph.cc:249] Custom gesture classifier is not defined.\n"
     ]
    },
    {
     "name": "stdout",
     "output_type": "stream",
     "text": [
      "./test/TEST_141.mp4\n"
     ]
    },
    {
     "name": "stderr",
     "output_type": "stream",
     "text": [
      "W20230206 03:27:28.556911 308553216 gesture_recognizer_graph.cc:121] Hand Gesture Recognizer contains CPU only ops. Sets HandGestureRecognizerGraph acceleartion to Xnnpack.\n",
      "I20230206 03:27:28.558158 308553216 hand_gesture_recognizer_graph.cc:249] Custom gesture classifier is not defined.\n"
     ]
    },
    {
     "name": "stdout",
     "output_type": "stream",
     "text": [
      "./test/TEST_142.mp4\n"
     ]
    },
    {
     "name": "stderr",
     "output_type": "stream",
     "text": [
      "W20230206 03:27:30.220917 308553216 gesture_recognizer_graph.cc:121] Hand Gesture Recognizer contains CPU only ops. Sets HandGestureRecognizerGraph acceleartion to Xnnpack.\n",
      "I20230206 03:27:30.222157 308553216 hand_gesture_recognizer_graph.cc:249] Custom gesture classifier is not defined.\n"
     ]
    },
    {
     "name": "stdout",
     "output_type": "stream",
     "text": [
      "./test/TEST_143.mp4\n"
     ]
    },
    {
     "name": "stderr",
     "output_type": "stream",
     "text": [
      "W20230206 03:27:31.116513 308553216 gesture_recognizer_graph.cc:121] Hand Gesture Recognizer contains CPU only ops. Sets HandGestureRecognizerGraph acceleartion to Xnnpack.\n",
      "I20230206 03:27:31.117686 308553216 hand_gesture_recognizer_graph.cc:249] Custom gesture classifier is not defined.\n"
     ]
    },
    {
     "name": "stdout",
     "output_type": "stream",
     "text": [
      "./test/TEST_144.mp4\n"
     ]
    },
    {
     "name": "stderr",
     "output_type": "stream",
     "text": [
      "W20230206 03:27:32.647269 308553216 gesture_recognizer_graph.cc:121] Hand Gesture Recognizer contains CPU only ops. Sets HandGestureRecognizerGraph acceleartion to Xnnpack.\n",
      "I20230206 03:27:32.648432 308553216 hand_gesture_recognizer_graph.cc:249] Custom gesture classifier is not defined.\n"
     ]
    },
    {
     "name": "stdout",
     "output_type": "stream",
     "text": [
      "./test/TEST_145.mp4\n"
     ]
    },
    {
     "name": "stderr",
     "output_type": "stream",
     "text": [
      "W20230206 03:27:34.228188 308553216 gesture_recognizer_graph.cc:121] Hand Gesture Recognizer contains CPU only ops. Sets HandGestureRecognizerGraph acceleartion to Xnnpack.\n",
      "I20230206 03:27:34.229403 308553216 hand_gesture_recognizer_graph.cc:249] Custom gesture classifier is not defined.\n"
     ]
    },
    {
     "name": "stdout",
     "output_type": "stream",
     "text": [
      "./test/TEST_146.mp4\n"
     ]
    },
    {
     "name": "stderr",
     "output_type": "stream",
     "text": [
      "W20230206 03:27:35.658792 308553216 gesture_recognizer_graph.cc:121] Hand Gesture Recognizer contains CPU only ops. Sets HandGestureRecognizerGraph acceleartion to Xnnpack.\n",
      "I20230206 03:27:35.660043 308553216 hand_gesture_recognizer_graph.cc:249] Custom gesture classifier is not defined.\n"
     ]
    },
    {
     "name": "stdout",
     "output_type": "stream",
     "text": [
      "./test/TEST_147.mp4\n"
     ]
    },
    {
     "name": "stderr",
     "output_type": "stream",
     "text": [
      "W20230206 03:27:37.495205 308553216 gesture_recognizer_graph.cc:121] Hand Gesture Recognizer contains CPU only ops. Sets HandGestureRecognizerGraph acceleartion to Xnnpack.\n",
      "I20230206 03:27:37.496460 308553216 hand_gesture_recognizer_graph.cc:249] Custom gesture classifier is not defined.\n"
     ]
    },
    {
     "name": "stdout",
     "output_type": "stream",
     "text": [
      "./test/TEST_148.mp4\n"
     ]
    },
    {
     "name": "stderr",
     "output_type": "stream",
     "text": [
      "W20230206 03:27:38.479058 308553216 gesture_recognizer_graph.cc:121] Hand Gesture Recognizer contains CPU only ops. Sets HandGestureRecognizerGraph acceleartion to Xnnpack.\n",
      "I20230206 03:27:38.480296 308553216 hand_gesture_recognizer_graph.cc:249] Custom gesture classifier is not defined.\n"
     ]
    },
    {
     "name": "stdout",
     "output_type": "stream",
     "text": [
      "./test/TEST_149.mp4\n"
     ]
    },
    {
     "name": "stderr",
     "output_type": "stream",
     "text": [
      "W20230206 03:27:40.031294 308553216 gesture_recognizer_graph.cc:121] Hand Gesture Recognizer contains CPU only ops. Sets HandGestureRecognizerGraph acceleartion to Xnnpack.\n",
      "I20230206 03:27:40.032512 308553216 hand_gesture_recognizer_graph.cc:249] Custom gesture classifier is not defined.\n"
     ]
    },
    {
     "name": "stdout",
     "output_type": "stream",
     "text": [
      "./test/TEST_150.mp4\n"
     ]
    },
    {
     "name": "stderr",
     "output_type": "stream",
     "text": [
      "W20230206 03:27:40.883430 308553216 gesture_recognizer_graph.cc:121] Hand Gesture Recognizer contains CPU only ops. Sets HandGestureRecognizerGraph acceleartion to Xnnpack.\n",
      "I20230206 03:27:40.884622 308553216 hand_gesture_recognizer_graph.cc:249] Custom gesture classifier is not defined.\n"
     ]
    },
    {
     "name": "stdout",
     "output_type": "stream",
     "text": [
      "./test/TEST_151.mp4\n"
     ]
    },
    {
     "name": "stderr",
     "output_type": "stream",
     "text": [
      "W20230206 03:27:42.987679 308553216 gesture_recognizer_graph.cc:121] Hand Gesture Recognizer contains CPU only ops. Sets HandGestureRecognizerGraph acceleartion to Xnnpack.\n",
      "I20230206 03:27:42.988902 308553216 hand_gesture_recognizer_graph.cc:249] Custom gesture classifier is not defined.\n"
     ]
    },
    {
     "name": "stdout",
     "output_type": "stream",
     "text": [
      "./test/TEST_152.mp4\n"
     ]
    },
    {
     "name": "stderr",
     "output_type": "stream",
     "text": [
      "W20230206 03:27:44.867223 308553216 gesture_recognizer_graph.cc:121] Hand Gesture Recognizer contains CPU only ops. Sets HandGestureRecognizerGraph acceleartion to Xnnpack.\n",
      "I20230206 03:27:44.868418 308553216 hand_gesture_recognizer_graph.cc:249] Custom gesture classifier is not defined.\n"
     ]
    },
    {
     "name": "stdout",
     "output_type": "stream",
     "text": [
      " \t  res_true: 0\n"
     ]
    }
   ],
   "source": [
    "def main2():\n",
    "    file_index = ''\n",
    "    for i in range(3,4): \n",
    "        if i < 10 : file_index = '00'+str(i)\n",
    "        elif i> 10 and i<100: file_index= '0'+str(i)\n",
    "        else: file_index = str(i)\n",
    "        video_file_path = './train/TRAIN_'+file_index + '.mp4'\n",
    "        \n",
    "        print(do_process(video_file_path))\n",
    "        \n",
    "import pandas as pd\n",
    "import os \n",
    "\n",
    "def main():\n",
    "  res_true = 0\n",
    "  res_false= 0\n",
    "  df = pd.read_csv('/Users/s/dacon/open/train.csv')\n",
    "  for row in df.iterrows():\n",
    "    print(row[1].path, row[1].label)\n",
    "    final_res = do_process(row[1].path)         \n",
    "    print(\"Result: %d\"%final_res)\n",
    "    \n",
    "    if final_res == row[1].label:\n",
    "      res_true +=1\n",
    "    else:\n",
    "      res_false += 1\n",
    "      \n",
    "  print(\" \\t  res_true: %d\"%res_true)\n",
    "  \n",
    "import csv\n",
    "def main3():\n",
    "  res_true = 0\n",
    "  res_false= 0\n",
    "  df = pd.read_csv('/Users/s/dacon/open/test.csv')\n",
    "  l = []\n",
    "  \n",
    "  i = 0 \n",
    "  for row in df.iterrows():\n",
    "    print(row[1].path)\n",
    "    final_res = do_process(row[1].path)         \n",
    "    #print(\"Result: %d\"%final_res)\n",
    "   \n",
    "    l.append([row[1].id, final_res])\n",
    "    \n",
    "    i = i +1\n",
    "  \n",
    "  df = pd.DataFrame(l, columns=['id', 'label'])\n",
    "  df.to_csv('/Users/s/dacon/open/sample_submission.csv', index=False, encoding='cp949') \n",
    "\n",
    "  print(\" \\t  res_true: %d\"%res_true)\n",
    "\n",
    "if __name__ == \"__main__\":\n",
    "  main3()\n",
    " \n",
    "    #print(res_not_found_count)\n",
    "    #print(res_landmark.count('Open_Palm'))\n",
    "    #print(results)\n",
    "    \n",
    "#  display_batch_of_images_with_gestures_and_hand_landmarks(images, results)\n"
   ]
  },
  {
   "cell_type": "code",
   "execution_count": null,
   "metadata": {},
   "outputs": [],
   "source": []
  },
  {
   "cell_type": "code",
   "execution_count": null,
   "metadata": {},
   "outputs": [],
   "source": []
  }
 ],
 "metadata": {
  "kernelspec": {
   "display_name": "Python 3",
   "language": "python",
   "name": "python3"
  },
  "language_info": {
   "codemirror_mode": {
    "name": "ipython",
    "version": 3
   },
   "file_extension": ".py",
   "mimetype": "text/x-python",
   "name": "python",
   "nbconvert_exporter": "python",
   "pygments_lexer": "ipython3",
   "version": "3.7.6"
  },
  "orig_nbformat": 4,
  "vscode": {
   "interpreter": {
    "hash": "4806d66191694be8207ed94abd53c19017dbadabf90114378400412e75f1ddd5"
   }
  }
 },
 "nbformat": 4,
 "nbformat_minor": 2
}
